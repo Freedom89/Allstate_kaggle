{
 "cells": [
  {
   "cell_type": "code",
   "execution_count": 1,
   "metadata": {
    "button": false,
    "collapsed": true,
    "deletable": true,
    "new_sheet": false,
    "run_control": {
     "read_only": false
    }
   },
   "outputs": [],
   "source": [
    "import numpy as np\n",
    "np.random.seed(123)\n",
    "import pandas as pd\n",
    "import xgboost as xgb\n",
    "import gc\n",
    "from datetime import datetime\n",
    "from scipy.optimize import minimize\n",
    "from sklearn.metrics import mean_absolute_error\n"
   ]
  },
  {
   "cell_type": "code",
   "execution_count": 2,
   "metadata": {
    "button": false,
    "collapsed": false,
    "deletable": true,
    "new_sheet": false,
    "run_control": {
     "read_only": false
    }
   },
   "outputs": [],
   "source": [
    "train = pd.read_csv(\"./input/train.csv\")\n",
    "xgb1 = pd.read_csv(\"./xgboost/oob_xgb_fairobj_1124.252199_2016-12-09-22-05.csv\")\n",
    "xgb2 = pd.read_csv(\"./xgboost/oob_power3_xgb_fairobj_1125.110344_2016-12-08-22-18.csv\")\n",
    "xgb3 = pd.read_csv(\"./xgboost/oob_xgb_fairobj_1124.738622_2016-12-08-03-06.csv\")\n",
    "xgb4 = pd.read_csv(\"./xgboost/oob_xgb_fairobj_1125.099072_2016-12-07-21-03.csv\")\n",
    "xgb5 = pd.read_csv(\"./xgboost/oob_power3_xgb_fairobj_1124.879544_2016-12-08-07-07.csv\")\n",
    "xgb6 = pd.read_csv(\"./xgboost/oob_xgb_fairobj_1124.456032_2016-12-08-14-34.csv\")\n",
    "\n",
    "keras1 = pd.read_csv(\"./keras/preds_oob1130.58667325_from fourm.csv\").sort_values('id')\n",
    "keras2 = pd.read_csv(\"./keras/preds_oob1130.400_different seed.csv\").sort_values('id')\n",
    "keras3 = pd.read_csv(\"./keras/preds_oob1131.39946641_seed400-250-50_no_early_stop.csv\").sort_values('id')\n",
    "keras4 = pd.read_csv(\"./keras/preds_oob1132.36796706_no_log_400_200_50.csv\").sort_values('id')\n",
    "\n",
    "second_level1 = pd.read_csv(\"./second_level_models/1117.90490574preds_oob.csv\")\n",
    "second_level2 = pd.read_csv(\"./second_level_models/1117.88037992preds_oob.csv\")"
   ]
  },
  {
   "cell_type": "code",
   "execution_count": 3,
   "metadata": {
    "button": false,
    "collapsed": true,
    "deletable": true,
    "new_sheet": false,
    "run_control": {
     "read_only": false
    }
   },
   "outputs": [],
   "source": [
    "def mae_func(weights):\n",
    "    ''' scipy minimize will pass the weights as a numpy array '''\n",
    "    final_prediction = 0\n",
    "    for weight, prediction in zip(weights, predictions):\n",
    "            final_prediction += weight*prediction\n",
    "\n",
    "    return mean_absolute_error(Y_values, final_prediction)\n",
    "\n",
    "def timer(start_time=None):\n",
    "    if not start_time:\n",
    "        start_time = datetime.now()\n",
    "        return start_time\n",
    "    elif start_time:\n",
    "        thour, temp_sec = divmod((datetime.now() - start_time).total_seconds(), 3600)\n",
    "        tmin, tsec = divmod(temp_sec, 60)\n",
    "        print(' Time taken: %i hours %i minutes and %s seconds.' % (thour, tmin, round(tsec, 2)))"
   ]
  },
  {
   "cell_type": "code",
   "execution_count": 4,
   "metadata": {
    "button": false,
    "collapsed": false,
    "deletable": true,
    "new_sheet": false,
    "run_control": {
     "read_only": false
    }
   },
   "outputs": [],
   "source": [
    "Y_values = train['loss'].values\n",
    "predictions = []\n",
    "lls = []\n",
    "wghts = []"
   ]
  },
  {
   "cell_type": "code",
   "execution_count": 5,
   "metadata": {
    "button": false,
    "collapsed": false,
    "deletable": true,
    "new_sheet": false,
    "run_control": {
     "read_only": false
    }
   },
   "outputs": [],
   "source": [
    "predictions.append(np.array(xgb1.loss))\n",
    "#predictions.append(np.array(xgb2.loss))\n",
    "#predictions.append(np.array(xgb3.loss))\n",
    "#predictions.append(np.array(xgb4.loss))\n",
    "predictions.append(np.array(xgb5.loss))\n",
    "predictions.append(np.array(xgb6.loss))\n",
    "\n",
    "predictions.append(np.array(keras1.loss))\n",
    "predictions.append(np.array(keras2.loss))\n",
    "predictions.append(np.array(keras3.loss))\n",
    "predictions.append(np.array(keras4.loss))\n",
    "#predictions.append(np.array(keras5.loss))\n",
    "#predictions.append(np.array(keras6.loss))\n",
    "\n",
    "#predictions.append(np.array(ef1.loss))\n",
    "predictions.append(np.array(second_level1.loss))\n",
    "predictions.append(np.array(second_level2.loss))"
   ]
  },
  {
   "cell_type": "code",
   "execution_count": null,
   "metadata": {
    "button": false,
    "collapsed": false,
    "deletable": true,
    "new_sheet": false,
    "run_control": {
     "read_only": false
    },
    "scrolled": true
   },
   "outputs": [],
   "source": [
    "start_time = timer(None)\n",
    "for i in range(500):\n",
    "    starting_values = np.random.uniform(size=len(predictions))\n",
    "    cons = ({'type':'ineq','fun':lambda w: 1.2-sum(w)})\n",
    "    bounds = [(0,1)]*len(predictions)\n",
    "\n",
    "    res = minimize(mae_func, starting_values, method='L-BFGS-B',\n",
    "                   bounds=bounds, options={'disp': False, 'maxiter': 10000})\n",
    "\n",
    "    lls.append(res['fun'])\n",
    "    wghts.append(res['x'])\n",
    "# Uncomment the next line if you want to see the weights and scores calculated in real time\n",
    "    #print('Weights: {weights}  Score: {score}'.format(weights=res['x'], score=res['fun']))\n",
    "\n",
    "bestSC = np.min(lls)\n",
    "bestWght = wghts[np.argmin(lls)]\n",
    "\n",
    "print('\\n Ensemble Score: {best_score}'.format(best_score=bestSC))\n",
    "print('\\n Best Weights: {weights}'.format(weights=bestWght))\n",
    "\n",
    "timer(start_time)"
   ]
  },
  {
   "cell_type": "code",
   "execution_count": 53,
   "metadata": {
    "button": false,
    "collapsed": false,
    "deletable": true,
    "new_sheet": false,
    "run_control": {
     "read_only": false
    }
   },
   "outputs": [
    {
     "name": "stdout",
     "output_type": "stream",
     "text": [
      "[ 0.05753586  0.          0.          0.01344082  0.          0.01745303\n",
      "  0.06075416  0.42314339  0.4311688 ]\n"
     ]
    }
   ],
   "source": [
    "bestSC = np.min(lls)\n",
    "bestWght = wghts[np.argmin(lls)]\n",
    "print bestWght"
   ]
  },
  {
   "cell_type": "code",
   "execution_count": 55,
   "metadata": {
    "button": false,
    "collapsed": false,
    "deletable": true,
    "new_sheet": false,
    "run_control": {
     "read_only": false
    }
   },
   "outputs": [],
   "source": [
    "model1 = pd.read_csv(\"./xgboost/submission_5fold-average-xgb_fairobj_1124.252199_2016-12-02-11-19.csv\")\n",
    "model2 = pd.read_csv(\"./xgboost/test_power3_xgb_fairobj_1124.879544_2016-12-08-07-07.csv\")\n",
    "model3 = pd.read_csv(\"./xgboost/test_xgb_fairobj_1124.456032_2016-12-08-14-34.csv\")\n",
    "model4 = pd.read_csv(\"./keras/submission_keras_shift_perm1130.58667325.csv\").sort_values('id')\n",
    "model5 = pd.read_csv(\"./keras/submission_keras_shift_perm1130.400.csv\").sort_values('id')\n",
    "model6 = pd.read_csv(\"./keras/submission_keras_shift_perm1131.39946641.csv\").sort_values('id')\n",
    "model7 = pd.read_csv(\"./keras/submission_keras_shift_perm1132.36796706.csv\").sort_values('id')\n",
    "model8 = pd.read_csv(\"1117.90490574_submission_keras_shift_perm.csv\")\n",
    "model9 = pd.read_csv(\"1117.90490574_submission_keras_shift_perm.csv\")"
   ]
  },
  {
   "cell_type": "code",
   "execution_count": 56,
   "metadata": {
    "button": false,
    "collapsed": false,
    "deletable": true,
    "new_sheet": false,
    "run_control": {
     "read_only": false
    }
   },
   "outputs": [],
   "source": [
    "combined = bestWght[0] * np.array(model1.loss) + \\\n",
    "bestWght[1] * np.array(model2.loss) +\\\n",
    "bestWght[2] * np.array(model3.loss) +\\\n",
    "bestWght[3] * np.array(model4.loss) +\\\n",
    "bestWght[4] * np.array(model5.loss) +\\\n",
    "bestWght[5] * np.array(model6.loss) +\\\n",
    "bestWght[6] * np.array(model7.loss) +\\\n",
    "bestWght[7] * np.array(model8.loss) +\\\n",
    "bestWght[8] * np.array(model9.loss)\n"
   ]
  },
  {
   "cell_type": "code",
   "execution_count": 57,
   "metadata": {
    "button": false,
    "collapsed": false,
    "deletable": true,
    "new_sheet": false,
    "run_control": {
     "read_only": false
    }
   },
   "outputs": [],
   "source": [
    "ids = pd.read_csv('./data_prep/input/test.csv')['id']\n",
    "df = pd.DataFrame({'id': ids, 'loss': combined})\n"
   ]
  },
  {
   "cell_type": "code",
   "execution_count": 58,
   "metadata": {
    "button": false,
    "collapsed": false,
    "deletable": true,
    "new_sheet": false,
    "run_control": {
     "read_only": false
    }
   },
   "outputs": [],
   "source": [
    "df.to_csv('allstate'+str(bestSC) + '.csv', index = False)"
   ]
  }
 ],
 "metadata": {
  "kernelspec": {
   "display_name": "Python 2",
   "language": "python",
   "name": "python2"
  },
  "language_info": {
   "codemirror_mode": {
    "name": "ipython",
    "version": 2
   },
   "file_extension": ".py",
   "mimetype": "text/x-python",
   "name": "python",
   "nbconvert_exporter": "python",
   "pygments_lexer": "ipython2",
   "version": "2.7.11"
  }
 },
 "nbformat": 4,
 "nbformat_minor": 0
}
