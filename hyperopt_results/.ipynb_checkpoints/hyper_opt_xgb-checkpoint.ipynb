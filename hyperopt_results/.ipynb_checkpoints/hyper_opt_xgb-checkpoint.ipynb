{
 "cells": [
  {
   "cell_type": "code",
   "execution_count": null,
   "metadata": {
    "button": false,
    "collapsed": false,
    "deletable": true,
    "new_sheet": false,
    "run_control": {
     "read_only": false
    }
   },
   "outputs": [],
   "source": [
    "import numpy as np\n",
    "import pandas as pd\n",
    "import xgboost as xgb\n",
    "\n",
    "from datetime import datetime\n",
    "from sklearn.metrics import mean_absolute_error\n",
    "from sklearn.cross_validation import KFold\n",
    "from scipy.stats import skew, boxcox\n",
    "from sklearn.preprocessing import StandardScaler\n",
    "import itertools\n",
    "\n",
    "from hyperopt import fmin, tpe, hp, STATUS_OK, Trials"
   ]
  },
  {
   "cell_type": "code",
   "execution_count": null,
   "metadata": {
    "button": false,
    "collapsed": true,
    "deletable": true,
    "new_sheet": false,
    "run_control": {
     "read_only": false
    }
   },
   "outputs": [],
   "source": [
    "shift = 200\n",
    "def encode(charcode):\n",
    "    r = 0\n",
    "    ln = len(str(charcode))\n",
    "    for i in range(ln):\n",
    "        r += (ord(str(charcode)[i]) - ord('A') + 1) * 26 ** (ln - i - 1)\n",
    "    return r\n",
    "\n",
    "def fair_obj(preds, dtrain):\n",
    "    fair_constant = 2\n",
    "    labels = dtrain.get_label()\n",
    "    x = (preds - labels)\n",
    "    den = abs(x) + fair_constant\n",
    "    grad = fair_constant * x / (den)\n",
    "    hess = fair_constant * fair_constant / (den * den)\n",
    "    return grad, hess\n",
    "\n",
    "def xg_eval_mae(yhat, dtrain):\n",
    "    y = dtrain.get_label()\n",
    "    return 'mae', mean_absolute_error(np.exp(y)-shift,\n",
    "                                      np.exp(yhat)-shift)\n"
   ]
  },
  {
   "cell_type": "code",
   "execution_count": null,
   "metadata": {
    "button": false,
    "collapsed": false,
    "deletable": true,
    "new_sheet": false,
    "run_control": {
     "read_only": false
    }
   },
   "outputs": [],
   "source": [
    "train_x = pd.read_csv(\"../input/train_x_power2.csv\")\n",
    "train_y = pd.read_csv(\"./Allstate/input/train_y_power2.csv\",header=None)\n",
    "ids = pd.read_csv(\"./Allstate/input/ids.csv\")\n",
    "test_x = pd.read_csv(\"./Allstate/input/test_power2.csv\")\n",
    "test_x = xgb.DMatrix(test_x)"
   ]
  },
  {
   "cell_type": "code",
   "execution_count": null,
   "metadata": {
    "button": false,
    "collapsed": false,
    "deletable": true,
    "new_sheet": false,
    "run_control": {
     "read_only": false
    }
   },
   "outputs": [],
   "source": [
    "\n",
    "Df_results = pd.DataFrame() \n",
    "iter_count = 1\n",
    "\n",
    "def objective(space):\n",
    "    \n",
    "    #n_folds = n_folds\n",
    "    num_rounds = 1500\n",
    "    n_folds = 5\n",
    "    early_stop = 50\n",
    "    random_state = 2016\n",
    "    n_print = 500\n",
    "    params = {\n",
    "        'eta': 0.1,\n",
    "        'silent': 1,\n",
    "        'seed': random_state,\n",
    "        'nthread': 20\n",
    "    }\n",
    "    \n",
    "    params['min_child_weight'] = space['min_child_weight']\n",
    "    params['colsample_bytree'] = space['colsample_bytree']\n",
    "    params['max_depth'] = space['max_depth']\n",
    "    params['subsample'] = space['subsample']\n",
    "    params['gamma'] = space['gamma']\n",
    "    params['alpha'] = space['alpha']\n",
    "    \n",
    "    log_files = params.copy()\n",
    "    \n",
    "    cv_sum = 0\n",
    "    fpred = []\n",
    "    xgb_rounds = []\n",
    "    \n",
    "    kf = KFold(train_x.shape[0], n_folds=n_folds,random_state = 2016)\n",
    "    for i, (train_index, test_index) in enumerate(kf):\n",
    "        #print('\\n Fold %d' % (i+1))\n",
    "        X_train, X_val = train_x.iloc[train_index], train_x.iloc[test_index]\n",
    "        y_train, y_val = train_y.iloc[train_index], train_y.iloc[test_index]\n",
    "\n",
    "        d_train = xgb.DMatrix(X_train, label=y_train)\n",
    "        d_valid = xgb.DMatrix(X_val, label=y_val)\n",
    "        watchlist = [(d_train, 'train'), (d_valid, 'eval')]\n",
    "\n",
    "        clf = xgb.train(params,\n",
    "                        d_train,\n",
    "                        num_boost_round = num_rounds,\n",
    "                        evals = watchlist,\n",
    "                        early_stopping_rounds=early_stop,\n",
    "                        obj=fair_obj,\n",
    "                        verbose_eval = None,\n",
    "                        feval=xg_eval_mae)\n",
    "\n",
    "        xgb_rounds.append(clf.best_iteration)\n",
    "        scores_val = clf.predict(d_valid, ntree_limit=clf.best_ntree_limit)\n",
    "        cv_score = mean_absolute_error(np.exp(y_val), np.exp(scores_val))\n",
    "        #print('eval-MAE: %.6f' % cv_score)\n",
    "        y_pred = np.exp(clf.predict(test_x, ntree_limit=clf.best_ntree_limit)) - shift\n",
    "        \n",
    "        cv_score_name = str(i) + '_cv_score' \n",
    "        rounds_name = str(i) + '_n_rounds' \n",
    "        \n",
    "        log_files[cv_score_name] = cv_score \n",
    "        log_files[rounds_name] = clf.best_iteration\n",
    "\n",
    "        if i > 0:\n",
    "            fpred = pred + y_pred\n",
    "        else:\n",
    "            fpred = y_pred\n",
    "        pred = fpred\n",
    "        cv_sum = cv_sum + cv_score\n",
    "\n",
    "    mpred = pred / n_folds\n",
    "    score = cv_sum / n_folds\n",
    "    #print 'the score for this round is :' + str(score )\n",
    "\n",
    "    n_rounds = int(np.mean(xgb_rounds))\n",
    "    \n",
    "    log_files['score'] = score\n",
    "    log_files['n_rounds'] = n_rounds\n",
    "    \n",
    "    log_files_df = pd.DataFrame(log_files.items(), columns = ['params','value'])\n",
    "\n",
    "    global iter_count \n",
    "    print '##################' + '   iteration ' + str(iter_count) + '    with' + ' ' + str(score) + ' ##############'\n",
    "\n",
    "    log_files_df['id'] = iter_count\n",
    "    iter_count = iter_count+1 \n",
    "    log_files_df = log_files_df.pivot(index = 'id',columns = 'params',values = 'value')\n",
    "    \n",
    "    global Df_results\n",
    "    Df_results = Df_results.append(log_files_df)\n",
    "    \n",
    "    return {'loss': score, 'status': STATUS_OK}"
   ]
  },
  {
   "cell_type": "code",
   "execution_count": null,
   "metadata": {
    "button": false,
    "collapsed": true,
    "deletable": true,
    "new_sheet": false,
    "run_control": {
     "read_only": false
    }
   },
   "outputs": [],
   "source": [
    "space = {\n",
    "         'max_depth' : hp.choice('max_depth', np.arange(7, 14, dtype=int)),\n",
    "         'min_child_weight' : hp.quniform('min_child_weight', 80, 140, 1),\n",
    "         'subsample' : hp.quniform('subsample', 0.5, 0.8, 0.05),\n",
    "         'colsample_bytree' : hp.quniform('colsample_bytree', 0.3, 0.8, 0.05),\n",
    "         'gamma' : hp.quniform('gamma', 0.5, 1.25, 0.05),\n",
    "         'alpha' : hp.quniform('alpha',5,10,0.25)\n",
    "\n",
    "        }\n",
    "    \n",
    "\n"
   ]
  },
  {
   "cell_type": "code",
   "execution_count": null,
   "metadata": {
    "button": false,
    "collapsed": false,
    "deletable": true,
    "new_sheet": false,
    "run_control": {
     "read_only": false
    }
   },
   "outputs": [],
   "source": [
    "trials = Trials()\n",
    "\n",
    "best = fmin(objective,space,algo = tpe.suggest,trials = trials, max_evals = 50)\n",
    "    \n",
    "print best "
   ]
  },
  {
   "cell_type": "code",
   "execution_count": null,
   "metadata": {
    "button": false,
    "collapsed": false,
    "deletable": true,
    "new_sheet": false,
    "run_control": {
     "read_only": false
    }
   },
   "outputs": [],
   "source": [
    "Df_results.to_csv('hyper_opt_power2.csv')"
   ]
  }
 ],
 "metadata": {
  "anaconda-cloud": {},
  "kernelspec": {
   "display_name": "Python 2",
   "language": "python",
   "name": "python2"
  },
  "language_info": {
   "codemirror_mode": {
    "name": "ipython",
    "version": 2
   },
   "file_extension": ".py",
   "mimetype": "text/x-python",
   "name": "python",
   "nbconvert_exporter": "python",
   "pygments_lexer": "ipython2",
   "version": "2.7.11"
  }
 },
 "nbformat": 4,
 "nbformat_minor": 1
}
