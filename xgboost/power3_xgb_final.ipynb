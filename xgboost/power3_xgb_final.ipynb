{
 "cells": [
  {
   "cell_type": "code",
   "execution_count": 5,
   "metadata": {
    "collapsed": false
   },
   "outputs": [],
   "source": [
    "import numpy as np\n",
    "import pandas as pd\n",
    "import xgboost as xgb\n",
    "\n",
    "from datetime import datetime\n",
    "from sklearn.metrics import mean_absolute_error\n",
    "from sklearn.cross_validation import KFold\n",
    "from scipy.stats import skew, boxcox\n",
    "from sklearn import preprocessing\n",
    "from sklearn.preprocessing import StandardScaler\n",
    "import itertools\n",
    "\n",
    "ids = pd.read_csv('../input/test.csv')['id']\n",
    "train_x = pd.read_csv(\"../input/train_x_power3.csv\")\n",
    "train_y = pd.read_csv(\"../input/train_y_power3.csv\",header = None)\n",
    "test_x = pd.read_csv(\"../input/test_power3.csv\")\n",
    "\n",
    "def fair_obj(preds, dtrain):\n",
    "    fair_constant = 2\n",
    "    labels = dtrain.get_label()\n",
    "    x = (preds - labels)\n",
    "    den = abs(x) + fair_constant\n",
    "    grad = fair_constant * x / (den)\n",
    "    hess = fair_constant * fair_constant / (den * den)\n",
    "    return grad, hess\n",
    "\n",
    "shift = 200\n",
    "def xg_eval_mae(yhat, dtrain):\n",
    "    y = dtrain.get_label()\n",
    "    return 'mae', mean_absolute_error(np.exp(y)-shift,\n",
    "                                      np.exp(yhat)-shift)\n",
    "\n"
   ]
  },
  {
   "cell_type": "code",
   "execution_count": 6,
   "metadata": {
    "collapsed": true
   },
   "outputs": [],
   "source": [
    "def xgb_model(params , train_x, train_y, ids, test_x ,n_folds = 5,n_print = 500, early_stop = 50,shift=200):\n",
    "    #n_folds = n_folds\n",
    "    cv_sum = 0\n",
    "    fpred = []\n",
    "    xgb_rounds = []\n",
    "    test_x = xgb.DMatrix(test_x)\n",
    "    kf = KFold(train_x.shape[0], n_folds=n_folds,random_state = 2016)\n",
    "\n",
    "    pred_oob = np.zeros(train_x.shape[0])\n",
    "\n",
    "    for i, (train_index, test_index) in enumerate(kf):\n",
    "        print('\\n Fold %d' % (i+1))\n",
    "        X_train, X_val = train_x.iloc[train_index], train_x.iloc[test_index]\n",
    "        y_train, y_val = train_y.iloc[train_index], train_y.iloc[test_index]\n",
    "\n",
    "        d_train = xgb.DMatrix(X_train, label=y_train)\n",
    "        d_valid = xgb.DMatrix(X_val, label=y_val)\n",
    "        watchlist = [(d_train, 'train'), (d_valid, 'eval')]\n",
    "\n",
    "        clf = xgb.train(params,\n",
    "                        d_train,\n",
    "                        100000,\n",
    "                        watchlist,\n",
    "                        early_stopping_rounds=early_stop,\n",
    "                        obj=fair_obj,\n",
    "                        verbose_eval = n_print,\n",
    "                        feval=xg_eval_mae)\n",
    "\n",
    "        xgb_rounds.append(clf.best_iteration)\n",
    "        scores_val = clf.predict(d_valid, ntree_limit=clf.best_ntree_limit)\n",
    "        pred_oob[test_index] = np.exp(scores_val) - shift\n",
    "        cv_score = mean_absolute_error(np.exp(y_val), np.exp(scores_val))\n",
    "        print('eval-MAE: %.6f' % cv_score)\n",
    "        y_pred = np.exp(clf.predict(test_x, ntree_limit=clf.best_ntree_limit)) - shift\n",
    "\n",
    "        if i > 0:\n",
    "            fpred = pred + y_pred\n",
    "        else:\n",
    "            fpred = y_pred\n",
    "        pred = fpred\n",
    "        cv_sum = cv_sum + cv_score\n",
    "\n",
    "        partial_evalutaion = open('temp_scores_power3.txt','a') \n",
    "        partial_evalutaion.write('Fold '+ str(i) + '- MAE:'+ str(cv_score)+'\\n')\n",
    "        partial_evalutaion.flush()\n",
    "\n",
    "\n",
    "    mpred = pred / n_folds\n",
    "    score = cv_sum / n_folds\n",
    "    print('Average eval-MAE: %.6f' % score)\n",
    "    n_rounds = int(np.mean(xgb_rounds))\n",
    "\n",
    "    print(\"Writing results\")\n",
    "    result = pd.DataFrame(mpred, columns=['loss'])\n",
    "    result[\"id\"] = ids\n",
    "    result = result.set_index(\"id\")\n",
    "    print(\"%d-fold average prediction:\" % n_folds)\n",
    "\n",
    "\n",
    "    now = datetime.now()\n",
    "    score = str(round((cv_sum / n_folds), 6))\n",
    "    sub_file = 'test_power3_xgb_fairobj_' + str(score) + '_' + str(\n",
    "        now.strftime(\"%Y-%m-%d-%H-%M\")) + '.csv'\n",
    "    print(\"Writing submission: %s\" % sub_file)\n",
    "    result.to_csv(sub_file, index=True, index_label='id')\n",
    "\n",
    "    print(\"writing out of bag results\")\n",
    "    oob_df = pd.DataFrame(pred_oob, columns = ['loss'])\n",
    "    sub_file = 'oob_power3_xgb_fairobj_' + str(score) + '_' + str(\n",
    "        now.strftime(\"%Y-%m-%d-%H-%M\")) + '.csv'\n",
    "    print(\"Writing submission: %s\" % sub_file)\n",
    "    oob_df.to_csv(sub_file, index = False)\n",
    "    \n",
    "    return (params,score,result,n_rounds,oob_df)"
   ]
  },
  {
   "cell_type": "code",
   "execution_count": null,
   "metadata": {
    "collapsed": false
   },
   "outputs": [],
   "source": [
    "params = {\n",
    "    'seed': 2016,\n",
    "    'colsample_bytree': 0.35,\n",
    "    'silent': 1,\n",
    "    'subsample': 0.8,\n",
    "    'learning_rate': 0.006,\n",
    "    'objective': 'reg:linear',\n",
    "    'max_depth': 9,\n",
    "    'min_child_weight': 124,\n",
    "    'nthread' : 20,\n",
    "    'alpha' : 7.75,\n",
    "    'gamma':0.9,\n",
    "    'booster': 'gbtree'}\n",
    "a1,b1,c1,d1,e1=xgb_model(params , train_x, train_y, ids, test_x,n_folds = 10,n_print = 2500,early_stop = 300)"
   ]
  },
  {
   "cell_type": "code",
   "execution_count": null,
   "metadata": {
    "collapsed": false
   },
   "outputs": [],
   "source": [
    "params = {\n",
    "    'seed': 1337,\n",
    "    'colsample_bytree': 0.35,\n",
    "    'silent': 1,\n",
    "    'subsample': 0.8,\n",
    "    'learning_rate': 0.006,\n",
    "    'objective': 'reg:linear',\n",
    "    'max_depth': 9,\n",
    "    'min_child_weight': 121,\n",
    "    'nthread' : 20,\n",
    "    'alpha' : 8,\n",
    "    'gamma':0.9,\n",
    "    'booster': 'gbtree'}\n",
    "a2,b2,c2,d2,e2=xgb_model(params , train_x, train_y, ids, test_x,n_folds = 10,n_print = 2500,early_stop = 300)"
   ]
  },
  {
   "cell_type": "code",
   "execution_count": null,
   "metadata": {
    "collapsed": false
   },
   "outputs": [],
   "source": [
    "params = {\n",
    "    'seed': 0,\n",
    "    'colsample_bytree': 0.45,\n",
    "    'silent': 1,\n",
    "    'subsample': 0.8,\n",
    "    'learning_rate': 0.006,\n",
    "    'objective': 'reg:linear',\n",
    "    'max_depth': 10,\n",
    "    'min_child_weight': 99,\n",
    "    'nthread' : 20,\n",
    "    'alpha' : 8.75,\n",
    "    'gamma':0.8,\n",
    "    'booster': 'gbtree'}\n",
    "a3,b3,c3,d3,e3=xgb_model(params , train_x, train_y, ids, test_x,n_folds = 10,n_print = 2500,early_stop = 300)"
   ]
  },
  {
   "cell_type": "code",
   "execution_count": null,
   "metadata": {
    "collapsed": false
   },
   "outputs": [],
   "source": [
    "params = {\n",
    "    'seed': 2016,\n",
    "    'colsample_bytree': 0.35,\n",
    "    'silent': 1,\n",
    "    'subsample': 0.75,\n",
    "    'learning_rate': 0.006,\n",
    "    'objective': 'reg:linear',\n",
    "    'max_depth': 12,\n",
    "    'min_child_weight': 122,\n",
    "    'nthread' : 18,\n",
    "    'alpha' : 7.75,\n",
    "    'gamma':0.85,\n",
    "    'booster': 'gbtree'}\n",
    "\n",
    "a4,b4,c4,d4,e4=xgb_model(params , train_x, train_y, ids, test_x,n_folds = 10,n_print = 2500,early_stop = 300)"
   ]
  },
  {
   "cell_type": "code",
   "execution_count": 19,
   "metadata": {
    "collapsed": false
   },
   "outputs": [
    {
     "name": "stdout",
     "output_type": "stream",
     "text": [
      "1124.879544 1125.110344\n"
     ]
    }
   ],
   "source": [
    "print b1,b2"
   ]
  },
  {
   "cell_type": "code",
   "execution_count": 20,
   "metadata": {
    "collapsed": false
   },
   "outputs": [
    {
     "name": "stdout",
     "output_type": "stream",
     "text": [
      "14956 15534\n"
     ]
    }
   ],
   "source": [
    "print d1,d2"
   ]
  },
  {
   "cell_type": "code",
   "execution_count": null,
   "metadata": {
    "collapsed": true
   },
   "outputs": [],
   "source": []
  }
 ],
 "metadata": {
  "anaconda-cloud": {},
  "kernelspec": {
   "display_name": "Python 2",
   "language": "python",
   "name": "python2"
  },
  "language_info": {
   "codemirror_mode": {
    "name": "ipython",
    "version": 2
   },
   "file_extension": ".py",
   "mimetype": "text/x-python",
   "name": "python",
   "nbconvert_exporter": "python",
   "pygments_lexer": "ipython2",
   "version": "2.7.11"
  }
 },
 "nbformat": 4,
 "nbformat_minor": 1
}
