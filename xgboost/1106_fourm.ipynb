{
 "cells": [
  {
   "cell_type": "code",
   "execution_count": 8,
   "metadata": {
    "button": false,
    "collapsed": false,
    "deletable": true,
    "new_sheet": false,
    "run_control": {
     "read_only": false
    }
   },
   "outputs": [],
   "source": [
    "import numpy as np\n",
    "import pandas as pd\n",
    "import xgboost as xgb\n",
    "\n",
    "from datetime import datetime\n",
    "from sklearn.metrics import mean_absolute_error\n",
    "from sklearn.cross_validation import KFold\n",
    "from scipy.stats import skew, boxcox\n",
    "from sklearn import preprocessing\n",
    "from sklearn.preprocessing import StandardScaler\n",
    "import itertools\n",
    "\n",
    "ids = pd.read_csv('../input/test.csv')['id']\n",
    "train_x = pd.read_csv(\"../input/train_x_1106.csv\")\n",
    "train_y = pd.read_csv(\"../input/train_y_1106.csv\",header = None)\n",
    "test_x = pd.read_csv(\"../input/test_1106.csv\")\n",
    "\n",
    "def fair_obj(preds, dtrain):\n",
    "    fair_constant = 0.7\n",
    "    labels = dtrain.get_label()\n",
    "    x = (preds - labels)\n",
    "    den = abs(x) + fair_constant\n",
    "    grad = fair_constant * x / (den)\n",
    "    hess = fair_constant * fair_constant / (den * den)\n",
    "    return grad, hess\n",
    "\n",
    "shift = 200\n",
    "def xg_eval_mae(yhat, dtrain):\n",
    "    y = dtrain.get_label()\n",
    "    return 'mae', mean_absolute_error(np.exp(y)-shift,\n",
    "                                      np.exp(yhat)-shift)\n",
    "\n"
   ]
  },
  {
   "cell_type": "code",
   "execution_count": 9,
   "metadata": {
    "button": false,
    "collapsed": true,
    "deletable": true,
    "new_sheet": false,
    "run_control": {
     "read_only": false
    }
   },
   "outputs": [],
   "source": [
    "def xgb_model(params , train_x, train_y, ids, test_x ,n_folds = 5,n_print = 500, early_stop = 50,shift=200):\n",
    "    #n_folds = n_folds\n",
    "    cv_sum = 0\n",
    "    fpred = []\n",
    "    xgb_rounds = []\n",
    "    test_x = xgb.DMatrix(test_x)\n",
    "    kf = KFold(train_x.shape[0], n_folds=n_folds,random_state = 2016)\n",
    "\n",
    "    pred_oob = np.zeros(train_x.shape[0])\n",
    "\n",
    "    for i, (train_index, test_index) in enumerate(kf):\n",
    "        print('\\n Fold %d' % (i+1))\n",
    "        X_train, X_val = train_x.iloc[train_index], train_x.iloc[test_index]\n",
    "        y_train, y_val = train_y.iloc[train_index], train_y.iloc[test_index]\n",
    "\n",
    "        d_train = xgb.DMatrix(X_train, label=y_train)\n",
    "        d_valid = xgb.DMatrix(X_val, label=y_val)\n",
    "        watchlist = [(d_train, 'train'), (d_valid, 'eval')]\n",
    "\n",
    "        clf = xgb.train(params,\n",
    "                        d_train,\n",
    "                        100000,\n",
    "                        watchlist,\n",
    "                        early_stopping_rounds=early_stop,\n",
    "                        obj=fair_obj,\n",
    "                        verbose_eval = n_print,\n",
    "                        feval=xg_eval_mae)\n",
    "\n",
    "        xgb_rounds.append(clf.best_iteration)\n",
    "        scores_val = clf.predict(d_valid, ntree_limit=clf.best_ntree_limit)\n",
    "        pred_oob[test_index] = np.exp(scores_val) - shift\n",
    "        cv_score = mean_absolute_error(np.exp(y_val), np.exp(scores_val))\n",
    "        print('eval-MAE: %.6f' % cv_score)\n",
    "        y_pred = np.exp(clf.predict(test_x, ntree_limit=clf.best_ntree_limit)) - shift\n",
    "\n",
    "        if i > 0:\n",
    "            fpred = pred + y_pred\n",
    "        else:\n",
    "            fpred = y_pred\n",
    "        pred = fpred\n",
    "        cv_sum = cv_sum + cv_score\n",
    "\n",
    "        partial_evalutaion = open('temp_scores_power2.txt','a') \n",
    "        partial_evalutaion.write('Fold '+ str(i) + '- MAE:'+ str(cv_score)+'\\n')\n",
    "        partial_evalutaion.flush()\n",
    "\n",
    "\n",
    "    mpred = pred / n_folds\n",
    "    score = cv_sum / n_folds\n",
    "    print('Average eval-MAE: %.6f' % score)\n",
    "    n_rounds = int(np.mean(xgb_rounds))\n",
    "\n",
    "    print(\"Writing results\")\n",
    "    result = pd.DataFrame(mpred, columns=['loss'])\n",
    "    result[\"id\"] = ids\n",
    "    result = result.set_index(\"id\")\n",
    "    print(\"%d-fold average prediction:\" % n_folds)\n",
    "\n",
    "\n",
    "    now = datetime.now()\n",
    "    score = str(round((cv_sum / n_folds), 6))\n",
    "    sub_file = 'test_xgb_fairobj_' + str(score) + '_' + str(\n",
    "        now.strftime(\"%Y-%m-%d-%H-%M\")) + '.csv'\n",
    "    print(\"Writing submission: %s\" % sub_file)\n",
    "    result.to_csv(sub_file, index=True, index_label='id')\n",
    "\n",
    "    print(\"writing out of bag results\")\n",
    "    oob_df = pd.DataFrame(pred_oob, columns = ['loss'])\n",
    "    sub_file = 'oob_xgb_fairobj_' + str(score) + '_' + str(\n",
    "        now.strftime(\"%Y-%m-%d-%H-%M\")) + '.csv'\n",
    "    print(\"Writing submission: %s\" % sub_file)\n",
    "    oob_df.to_csv(sub_file, index = False)\n",
    "    \n",
    "    return (params,score,result,n_rounds,oob_df)"
   ]
  },
  {
   "cell_type": "code",
   "execution_count": null,
   "metadata": {
    "button": false,
    "collapsed": false,
    "deletable": true,
    "new_sheet": false,
    "run_control": {
     "read_only": false
    },
    "scrolled": true
   },
   "outputs": [],
   "source": [
    "params = {\n",
    "    'seed': 0,\n",
    "    'colsample_bytree': 0.7,\n",
    "    'silent': 1,\n",
    "    'subsample': 0.7,\n",
    "    'learning_rate': 0.003,\n",
    "    'objective': 'reg:linear',\n",
    "    'max_depth': 12,\n",
    "    'min_child_weight': 100,\n",
    "    'nthread':16,\n",
    "    'booster': 'gbtree'}\n",
    "a1,b1,c1,d1,e1=xgb_model(params , train_x, train_y, ids, test_x,n_folds = 10,n_print = 250,early_stop = 300)"
   ]
  },
  {
   "cell_type": "code",
   "execution_count": 12,
   "metadata": {
    "button": false,
    "collapsed": false,
    "deletable": true,
    "new_sheet": false,
    "run_control": {
     "read_only": false
    }
   },
   "outputs": [
    {
     "name": "stdout",
     "output_type": "stream",
     "text": [
      "1124.252199\n"
     ]
    }
   ],
   "source": [
    "print b1"
   ]
  },
  {
   "cell_type": "code",
   "execution_count": 13,
   "metadata": {
    "button": false,
    "collapsed": false,
    "deletable": true,
    "new_sheet": false,
    "run_control": {
     "read_only": false
    }
   },
   "outputs": [
    {
     "name": "stdout",
     "output_type": "stream",
     "text": [
      "8742\n"
     ]
    }
   ],
   "source": [
    "print d1"
   ]
  },
  {
   "cell_type": "code",
   "execution_count": null,
   "metadata": {
    "button": false,
    "collapsed": true,
    "deletable": true,
    "new_sheet": false,
    "run_control": {
     "read_only": false
    }
   },
   "outputs": [],
   "source": []
  }
 ],
 "metadata": {
  "anaconda-cloud": {},
  "kernelspec": {
   "display_name": "Python 2",
   "language": "python",
   "name": "python2"
  },
  "language_info": {
   "codemirror_mode": {
    "name": "ipython",
    "version": 2
   },
   "file_extension": ".py",
   "mimetype": "text/x-python",
   "name": "python",
   "nbconvert_exporter": "python",
   "pygments_lexer": "ipython2",
   "version": "2.7.11"
  }
 },
 "nbformat": 4,
 "nbformat_minor": 1
}
