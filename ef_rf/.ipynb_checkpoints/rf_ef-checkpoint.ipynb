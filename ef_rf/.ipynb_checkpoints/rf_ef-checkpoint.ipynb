{
 "cells": [
  {
   "cell_type": "code",
   "execution_count": 1,
   "metadata": {
    "button": false,
    "collapsed": false,
    "deletable": true,
    "new_sheet": false,
    "run_control": {
     "read_only": false
    }
   },
   "outputs": [
    {
     "name": "stderr",
     "output_type": "stream",
     "text": [
      "//anaconda/envs/py27/lib/python2.7/site-packages/sklearn/cross_validation.py:44: DeprecationWarning: This module was deprecated in version 0.18 in favor of the model_selection module into which all the refactored classes and functions are moved. Also note that the interface of the new CV iterators are different from that of this module. This module will be removed in 0.20.\n",
      "  \"This module will be removed in 0.20.\", DeprecationWarning)\n"
     ]
    }
   ],
   "source": [
    "import numpy as np\n",
    "import pandas as pd\n",
    "import xgboost as xgb\n",
    "\n",
    "from datetime import datetime\n",
    "from sklearn.metrics import mean_absolute_error\n",
    "from sklearn.cross_validation import KFold\n",
    "from scipy.stats import skew, boxcox\n",
    "from sklearn.preprocessing import StandardScaler\n",
    "from sklearn.ensemble import ExtraTreesRegressor , RandomForestRegressor\n",
    "import itertools\n",
    "\n",
    "from hyperopt import fmin, tpe, hp, STATUS_OK, Trials"
   ]
  },
  {
   "cell_type": "code",
   "execution_count": 3,
   "metadata": {
    "button": false,
    "collapsed": true,
    "deletable": true,
    "new_sheet": false,
    "run_control": {
     "read_only": false
    }
   },
   "outputs": [],
   "source": [
    "train_x = pd.read_csv(\"../input/train_x_power2.csv\")\n",
    "train_y = pd.read_csv(\"../input/train_y_power2.csv\",header=None)\n",
    "ids = pd.read_csv(\"../input/test.csv\")['id']\n",
    "test_x = pd.read_csv(\"../input/test_power2.csv\")\n"
   ]
  },
  {
   "cell_type": "code",
   "execution_count": 9,
   "metadata": {
    "button": false,
    "collapsed": true,
    "deletable": true,
    "new_sheet": false,
    "run_control": {
     "read_only": false
    }
   },
   "outputs": [],
   "source": [
    "shift = 200\n",
    "SEED = 2016\n",
    "def xg_eval_mae(yhat, dtrain):\n",
    "    y = dtrain.get_label()\n",
    "    return 'mae', mean_absolute_error(np.exp(y)-shift,\n",
    "                                      np.exp(yhat)-shift)\n"
   ]
  },
  {
   "cell_type": "code",
   "execution_count": 12,
   "metadata": {
    "button": false,
    "collapsed": false,
    "deletable": true,
    "new_sheet": false,
    "run_control": {
     "read_only": false
    }
   },
   "outputs": [
    {
     "name": "stdout",
     "output_type": "stream",
     "text": [
      "0\n"
     ]
    },
    {
     "name": "stderr",
     "output_type": "stream",
     "text": [
      "[Parallel(n_jobs=18)]: Done  14 tasks      | elapsed:   27.5s\n",
      "[Parallel(n_jobs=18)]: Done 164 tasks      | elapsed:  3.0min\n",
      "[Parallel(n_jobs=18)]: Done 414 tasks      | elapsed:  7.3min\n",
      "[Parallel(n_jobs=18)]: Done 764 tasks      | elapsed: 13.4min\n",
      "[Parallel(n_jobs=18)]: Done 1000 out of 1000 | elapsed: 17.5min finished\n",
      "[Parallel(n_jobs=18)]: Done  14 tasks      | elapsed:    0.1s\n",
      "[Parallel(n_jobs=18)]: Done 164 tasks      | elapsed:    0.4s\n",
      "[Parallel(n_jobs=18)]: Done 414 tasks      | elapsed:    0.8s\n",
      "[Parallel(n_jobs=18)]: Done 764 tasks      | elapsed:    1.3s\n",
      "[Parallel(n_jobs=18)]: Done 1000 out of 1000 | elapsed:    1.6s finished\n",
      "[Parallel(n_jobs=18)]: Done  14 tasks      | elapsed:    0.1s\n",
      "[Parallel(n_jobs=18)]: Done 164 tasks      | elapsed:    0.7s\n",
      "[Parallel(n_jobs=18)]: Done 414 tasks      | elapsed:    1.4s\n",
      "[Parallel(n_jobs=18)]: Done 764 tasks      | elapsed:    2.6s\n",
      "[Parallel(n_jobs=18)]: Done 1000 out of 1000 | elapsed:    3.3s finished\n"
     ]
    },
    {
     "name": "stdout",
     "output_type": "stream",
     "text": [
      "eval-MAE: 1188.059541\n",
      "1\n"
     ]
    },
    {
     "name": "stderr",
     "output_type": "stream",
     "text": [
      "[Parallel(n_jobs=18)]: Done  14 tasks      | elapsed:   19.2s\n",
      "[Parallel(n_jobs=18)]: Done 164 tasks      | elapsed:  3.0min\n",
      "[Parallel(n_jobs=18)]: Done 414 tasks      | elapsed:  7.3min\n",
      "[Parallel(n_jobs=18)]: Done 764 tasks      | elapsed: 13.3min\n",
      "[Parallel(n_jobs=18)]: Done 1000 out of 1000 | elapsed: 17.4min finished\n",
      "[Parallel(n_jobs=18)]: Done  14 tasks      | elapsed:    0.1s\n",
      "[Parallel(n_jobs=18)]: Done 164 tasks      | elapsed:    0.3s\n",
      "[Parallel(n_jobs=18)]: Done 414 tasks      | elapsed:    0.6s\n",
      "[Parallel(n_jobs=18)]: Done 764 tasks      | elapsed:    1.1s\n",
      "[Parallel(n_jobs=18)]: Done 1000 out of 1000 | elapsed:    1.3s finished\n",
      "[Parallel(n_jobs=18)]: Done  14 tasks      | elapsed:    0.1s\n",
      "[Parallel(n_jobs=18)]: Done 164 tasks      | elapsed:    0.7s\n",
      "[Parallel(n_jobs=18)]: Done 414 tasks      | elapsed:    1.4s\n",
      "[Parallel(n_jobs=18)]: Done 764 tasks      | elapsed:    2.6s\n",
      "[Parallel(n_jobs=18)]: Done 1000 out of 1000 | elapsed:    3.3s finished\n"
     ]
    },
    {
     "name": "stdout",
     "output_type": "stream",
     "text": [
      "eval-MAE: 1188.304485\n",
      "2\n"
     ]
    },
    {
     "name": "stderr",
     "output_type": "stream",
     "text": [
      "[Parallel(n_jobs=18)]: Done  14 tasks      | elapsed:   25.4s\n",
      "[Parallel(n_jobs=18)]: Done 164 tasks      | elapsed:  3.0min\n",
      "[Parallel(n_jobs=18)]: Done 414 tasks      | elapsed:  7.3min\n",
      "[Parallel(n_jobs=18)]: Done 764 tasks      | elapsed: 13.3min\n",
      "[Parallel(n_jobs=18)]: Done 1000 out of 1000 | elapsed: 17.2min finished\n",
      "[Parallel(n_jobs=18)]: Done  14 tasks      | elapsed:    0.1s\n",
      "[Parallel(n_jobs=18)]: Done 164 tasks      | elapsed:    0.3s\n",
      "[Parallel(n_jobs=18)]: Done 414 tasks      | elapsed:    0.7s\n",
      "[Parallel(n_jobs=18)]: Done 764 tasks      | elapsed:    1.1s\n",
      "[Parallel(n_jobs=18)]: Done 1000 out of 1000 | elapsed:    1.4s finished\n",
      "[Parallel(n_jobs=18)]: Done  14 tasks      | elapsed:    0.1s\n",
      "[Parallel(n_jobs=18)]: Done 164 tasks      | elapsed:    0.6s\n",
      "[Parallel(n_jobs=18)]: Done 414 tasks      | elapsed:    1.4s\n",
      "[Parallel(n_jobs=18)]: Done 764 tasks      | elapsed:    2.5s\n",
      "[Parallel(n_jobs=18)]: Done 1000 out of 1000 | elapsed:    3.2s finished\n"
     ]
    },
    {
     "name": "stdout",
     "output_type": "stream",
     "text": [
      "eval-MAE: 1197.314234\n",
      "3\n"
     ]
    },
    {
     "name": "stderr",
     "output_type": "stream",
     "text": [
      "[Parallel(n_jobs=18)]: Done  14 tasks      | elapsed:   24.5s\n",
      "[Parallel(n_jobs=18)]: Done 164 tasks      | elapsed:  2.9min\n",
      "[Parallel(n_jobs=18)]: Done 414 tasks      | elapsed:  7.2min\n",
      "[Parallel(n_jobs=18)]: Done 764 tasks      | elapsed: 13.2min\n",
      "[Parallel(n_jobs=18)]: Done 1000 out of 1000 | elapsed: 17.2min finished\n",
      "[Parallel(n_jobs=18)]: Done  14 tasks      | elapsed:    0.0s\n",
      "[Parallel(n_jobs=18)]: Done 164 tasks      | elapsed:    0.3s\n",
      "[Parallel(n_jobs=18)]: Done 414 tasks      | elapsed:    0.5s\n",
      "[Parallel(n_jobs=18)]: Done 764 tasks      | elapsed:    1.0s\n",
      "[Parallel(n_jobs=18)]: Done 1000 out of 1000 | elapsed:    1.2s finished\n",
      "[Parallel(n_jobs=18)]: Done  14 tasks      | elapsed:    0.1s\n",
      "[Parallel(n_jobs=18)]: Done 164 tasks      | elapsed:    0.7s\n",
      "[Parallel(n_jobs=18)]: Done 414 tasks      | elapsed:    1.5s\n",
      "[Parallel(n_jobs=18)]: Done 764 tasks      | elapsed:    2.6s\n",
      "[Parallel(n_jobs=18)]: Done 1000 out of 1000 | elapsed:    3.4s finished\n"
     ]
    },
    {
     "name": "stdout",
     "output_type": "stream",
     "text": [
      "eval-MAE: 1196.225361\n",
      "4\n"
     ]
    },
    {
     "name": "stderr",
     "output_type": "stream",
     "text": [
      "[Parallel(n_jobs=18)]: Done  14 tasks      | elapsed:   26.5s\n",
      "[Parallel(n_jobs=18)]: Done 164 tasks      | elapsed:  3.0min\n",
      "[Parallel(n_jobs=18)]: Done 414 tasks      | elapsed:  7.3min\n",
      "[Parallel(n_jobs=18)]: Done 764 tasks      | elapsed: 13.2min\n",
      "[Parallel(n_jobs=18)]: Done 1000 out of 1000 | elapsed: 17.2min finished\n",
      "[Parallel(n_jobs=18)]: Done  14 tasks      | elapsed:    0.1s\n",
      "[Parallel(n_jobs=18)]: Done 164 tasks      | elapsed:    0.3s\n",
      "[Parallel(n_jobs=18)]: Done 414 tasks      | elapsed:    0.6s\n",
      "[Parallel(n_jobs=18)]: Done 764 tasks      | elapsed:    1.0s\n",
      "[Parallel(n_jobs=18)]: Done 1000 out of 1000 | elapsed:    1.3s finished\n",
      "[Parallel(n_jobs=18)]: Done  14 tasks      | elapsed:    0.1s\n",
      "[Parallel(n_jobs=18)]: Done 164 tasks      | elapsed:    0.6s\n",
      "[Parallel(n_jobs=18)]: Done 414 tasks      | elapsed:    1.4s\n",
      "[Parallel(n_jobs=18)]: Done 764 tasks      | elapsed:    2.5s\n",
      "[Parallel(n_jobs=18)]: Done 1000 out of 1000 | elapsed:    3.3s finished\n"
     ]
    },
    {
     "name": "stdout",
     "output_type": "stream",
     "text": [
      "eval-MAE: 1181.564218\n"
     ]
    }
   ],
   "source": [
    "n_folds = 5\n",
    "cv_sum = 0\n",
    "\n",
    "pred_oob = np.zeros(train_x.shape[0])\n",
    "pred_test = np.zeros(test_x.shape[0])\n",
    "\n",
    "\n",
    "kf = KFold(train_x.shape[0], n_folds=n_folds,random_state = 2016)\n",
    "for i, (train_index, test_index) in enumerate(kf):\n",
    "    print(i)\n",
    "\n",
    "    X_train, X_val = train_x.iloc[train_index], train_x.iloc[test_index]\n",
    "    y_train, y_val = train_y.iloc[train_index], train_y.iloc[test_index]\n",
    "\n",
    "    d_train, d_train_y = np.array(X_train), np.array(y_train[0])\n",
    "    d_valid, d_valid_y = np.array(X_val),np.array(y_val[0])\n",
    "\n",
    "    clf = ExtraTreesRegressor(n_estimators = 1000 ,\n",
    "                                max_features =1.0 ,\n",
    "                                max_depth = 22,\n",
    "                                min_samples_leaf =6,\n",
    "                                n_jobs = 18,\n",
    "                                criterion = 'mse',\n",
    "                                random_state = 2016,\n",
    "                                bootstrap = True,\n",
    "                                verbose = 1)\n",
    "\n",
    "    clf.fit(d_train,d_train_y)\n",
    "    \n",
    "    pred = np.exp(clf.predict(d_valid))-200\n",
    "    pred_oob[test_index] = pred\n",
    "    \n",
    "    pred_test += np.exp(clf.predict(np.array(test_x)))-200\n",
    "\n",
    "    cv_score = mean_absolute_error(np.exp(d_valid_y), pred+200)\n",
    "    print('eval-MAE: %.6f' % cv_score)\n",
    "\n",
    "    cv_sum = cv_sum + cv_score\n",
    "\n",
    "score = cv_sum / n_folds"
   ]
  },
  {
   "cell_type": "code",
   "execution_count": 17,
   "metadata": {
    "button": false,
    "collapsed": false,
    "deletable": true,
    "new_sheet": false,
    "run_control": {
     "read_only": false
    }
   },
   "outputs": [
    {
     "name": "stdout",
     "output_type": "stream",
     "text": [
      "Writing results\n",
      "5-fold average prediction:\n",
      "Writing submission: test_ef_fairobj_1190.293568_2016-12-12-00-24.csv\n",
      "writing out of bag results\n",
      "Writing submission: oob_ef_fairobj_1190.293568_2016-12-12-00-24.csv\n"
     ]
    }
   ],
   "source": [
    "#pred_test /= n_folds\n",
    "\n",
    "print(\"Writing results\")\n",
    "result = pd.DataFrame(pred_test, columns=['loss'])\n",
    "result[\"id\"] = ids\n",
    "result = result.set_index(\"id\")\n",
    "print(\"%d-fold average prediction:\" % n_folds)\n",
    "\n",
    "\n",
    "now = datetime.now()\n",
    "score = str(round((cv_sum / n_folds), 6))\n",
    "sub_file = 'test_ef_fairobj_' + str(score) + '_' + str(\n",
    "    now.strftime(\"%Y-%m-%d-%H-%M\")) + '.csv'\n",
    "print(\"Writing submission: %s\" % sub_file)\n",
    "result.to_csv(sub_file, index=True, index_label='id')\n",
    "\n",
    "print(\"writing out of bag results\")\n",
    "oob_df = pd.DataFrame(pred_oob, columns = ['loss'])\n",
    "sub_file = 'oob_ef_fairobj_' + str(score) + '_' + str(\n",
    "    now.strftime(\"%Y-%m-%d-%H-%M\")) + '.csv'\n",
    "print(\"Writing submission: %s\" % sub_file)\n",
    "oob_df.to_csv(sub_file, index = False)"
   ]
  },
  {
   "cell_type": "code",
   "execution_count": 18,
   "metadata": {
    "button": false,
    "collapsed": false,
    "deletable": true,
    "new_sheet": false,
    "run_control": {
     "read_only": false
    }
   },
   "outputs": [
    {
     "name": "stdout",
     "output_type": "stream",
     "text": [
      "0\n"
     ]
    },
    {
     "name": "stderr",
     "output_type": "stream",
     "text": [
      "[Parallel(n_jobs=18)]: Done  14 tasks      | elapsed:   18.1s\n",
      "[Parallel(n_jobs=18)]: Done 164 tasks      | elapsed:  2.4min\n",
      "[Parallel(n_jobs=18)]: Done 414 tasks      | elapsed:  5.7min\n",
      "[Parallel(n_jobs=18)]: Done 764 tasks      | elapsed: 10.5min\n",
      "[Parallel(n_jobs=18)]: Done 1000 out of 1000 | elapsed: 13.6min finished\n",
      "[Parallel(n_jobs=18)]: Done  14 tasks      | elapsed:    0.0s\n",
      "[Parallel(n_jobs=18)]: Done 164 tasks      | elapsed:    0.3s\n",
      "[Parallel(n_jobs=18)]: Done 414 tasks      | elapsed:    0.6s\n",
      "[Parallel(n_jobs=18)]: Done 764 tasks      | elapsed:    1.0s\n",
      "[Parallel(n_jobs=18)]: Done 1000 out of 1000 | elapsed:    1.2s finished\n",
      "[Parallel(n_jobs=18)]: Done  14 tasks      | elapsed:    0.1s\n",
      "[Parallel(n_jobs=18)]: Done 164 tasks      | elapsed:    0.6s\n",
      "[Parallel(n_jobs=18)]: Done 414 tasks      | elapsed:    1.2s\n",
      "[Parallel(n_jobs=18)]: Done 764 tasks      | elapsed:    2.0s\n",
      "[Parallel(n_jobs=18)]: Done 1000 out of 1000 | elapsed:    2.6s finished\n"
     ]
    },
    {
     "name": "stdout",
     "output_type": "stream",
     "text": [
      "eval-MAE: 1184.855491\n",
      "1\n"
     ]
    },
    {
     "name": "stderr",
     "output_type": "stream",
     "text": [
      "[Parallel(n_jobs=18)]: Done  14 tasks      | elapsed:   18.6s\n",
      "[Parallel(n_jobs=18)]: Done 164 tasks      | elapsed:  2.4min\n",
      "[Parallel(n_jobs=18)]: Done 414 tasks      | elapsed:  5.8min\n",
      "[Parallel(n_jobs=18)]: Done 764 tasks      | elapsed: 10.5min\n",
      "[Parallel(n_jobs=18)]: Done 1000 out of 1000 | elapsed: 13.7min finished\n",
      "[Parallel(n_jobs=18)]: Done  14 tasks      | elapsed:    0.1s\n",
      "[Parallel(n_jobs=18)]: Done 164 tasks      | elapsed:    0.3s\n",
      "[Parallel(n_jobs=18)]: Done 414 tasks      | elapsed:    0.7s\n",
      "[Parallel(n_jobs=18)]: Done 764 tasks      | elapsed:    1.1s\n",
      "[Parallel(n_jobs=18)]: Done 1000 out of 1000 | elapsed:    1.3s finished\n",
      "[Parallel(n_jobs=18)]: Done  14 tasks      | elapsed:    0.1s\n",
      "[Parallel(n_jobs=18)]: Done 164 tasks      | elapsed:    0.5s\n",
      "[Parallel(n_jobs=18)]: Done 414 tasks      | elapsed:    1.1s\n",
      "[Parallel(n_jobs=18)]: Done 764 tasks      | elapsed:    2.0s\n",
      "[Parallel(n_jobs=18)]: Done 1000 out of 1000 | elapsed:    2.5s finished\n"
     ]
    },
    {
     "name": "stdout",
     "output_type": "stream",
     "text": [
      "eval-MAE: 1183.892082\n",
      "2\n"
     ]
    },
    {
     "name": "stderr",
     "output_type": "stream",
     "text": [
      "[Parallel(n_jobs=18)]: Done  14 tasks      | elapsed:   18.4s\n",
      "[Parallel(n_jobs=18)]: Done 164 tasks      | elapsed:  2.4min\n",
      "[Parallel(n_jobs=18)]: Done 414 tasks      | elapsed:  5.7min\n",
      "[Parallel(n_jobs=18)]: Done 764 tasks      | elapsed: 10.5min\n",
      "[Parallel(n_jobs=18)]: Done 1000 out of 1000 | elapsed: 13.6min finished\n",
      "[Parallel(n_jobs=18)]: Done  14 tasks      | elapsed:    0.0s\n",
      "[Parallel(n_jobs=18)]: Done 164 tasks      | elapsed:    0.3s\n",
      "[Parallel(n_jobs=18)]: Done 414 tasks      | elapsed:    0.6s\n",
      "[Parallel(n_jobs=18)]: Done 764 tasks      | elapsed:    1.0s\n",
      "[Parallel(n_jobs=18)]: Done 1000 out of 1000 | elapsed:    1.2s finished\n",
      "[Parallel(n_jobs=18)]: Done  14 tasks      | elapsed:    0.1s\n",
      "[Parallel(n_jobs=18)]: Done 164 tasks      | elapsed:    0.5s\n",
      "[Parallel(n_jobs=18)]: Done 414 tasks      | elapsed:    1.1s\n",
      "[Parallel(n_jobs=18)]: Done 764 tasks      | elapsed:    1.9s\n",
      "[Parallel(n_jobs=18)]: Done 1000 out of 1000 | elapsed:    2.5s finished\n"
     ]
    },
    {
     "name": "stdout",
     "output_type": "stream",
     "text": [
      "eval-MAE: 1193.620465\n",
      "3\n"
     ]
    },
    {
     "name": "stderr",
     "output_type": "stream",
     "text": [
      "[Parallel(n_jobs=18)]: Done  14 tasks      | elapsed:   18.1s\n",
      "[Parallel(n_jobs=18)]: Done 164 tasks      | elapsed:  2.4min\n",
      "[Parallel(n_jobs=18)]: Done 414 tasks      | elapsed:  5.7min\n",
      "[Parallel(n_jobs=18)]: Done 764 tasks      | elapsed: 10.4min\n",
      "[Parallel(n_jobs=18)]: Done 1000 out of 1000 | elapsed: 13.5min finished\n",
      "[Parallel(n_jobs=18)]: Done  14 tasks      | elapsed:    0.0s\n",
      "[Parallel(n_jobs=18)]: Done 164 tasks      | elapsed:    0.2s\n",
      "[Parallel(n_jobs=18)]: Done 414 tasks      | elapsed:    0.6s\n",
      "[Parallel(n_jobs=18)]: Done 764 tasks      | elapsed:    1.0s\n",
      "[Parallel(n_jobs=18)]: Done 1000 out of 1000 | elapsed:    1.2s finished\n",
      "[Parallel(n_jobs=18)]: Done  14 tasks      | elapsed:    0.1s\n",
      "[Parallel(n_jobs=18)]: Done 164 tasks      | elapsed:    0.5s\n",
      "[Parallel(n_jobs=18)]: Done 414 tasks      | elapsed:    1.1s\n",
      "[Parallel(n_jobs=18)]: Done 764 tasks      | elapsed:    2.0s\n",
      "[Parallel(n_jobs=18)]: Done 1000 out of 1000 | elapsed:    2.5s finished\n"
     ]
    },
    {
     "name": "stdout",
     "output_type": "stream",
     "text": [
      "eval-MAE: 1191.481591\n",
      "4\n"
     ]
    },
    {
     "name": "stderr",
     "output_type": "stream",
     "text": [
      "[Parallel(n_jobs=18)]: Done  14 tasks      | elapsed:   19.7s\n",
      "[Parallel(n_jobs=18)]: Done 164 tasks      | elapsed:  2.3min\n",
      "[Parallel(n_jobs=18)]: Done 414 tasks      | elapsed:  5.7min\n",
      "[Parallel(n_jobs=18)]: Done 764 tasks      | elapsed: 10.4min\n",
      "[Parallel(n_jobs=18)]: Done 1000 out of 1000 | elapsed: 13.6min finished\n",
      "[Parallel(n_jobs=18)]: Done  14 tasks      | elapsed:    0.1s\n",
      "[Parallel(n_jobs=18)]: Done 164 tasks      | elapsed:    0.2s\n",
      "[Parallel(n_jobs=18)]: Done 414 tasks      | elapsed:    0.4s\n",
      "[Parallel(n_jobs=18)]: Done 764 tasks      | elapsed:    0.8s\n",
      "[Parallel(n_jobs=18)]: Done 1000 out of 1000 | elapsed:    1.0s finished\n",
      "[Parallel(n_jobs=18)]: Done  14 tasks      | elapsed:    0.1s\n",
      "[Parallel(n_jobs=18)]: Done 164 tasks      | elapsed:    0.5s\n",
      "[Parallel(n_jobs=18)]: Done 414 tasks      | elapsed:    1.1s\n",
      "[Parallel(n_jobs=18)]: Done 764 tasks      | elapsed:    1.9s\n",
      "[Parallel(n_jobs=18)]: Done 1000 out of 1000 | elapsed:    2.4s finished\n"
     ]
    },
    {
     "name": "stdout",
     "output_type": "stream",
     "text": [
      "eval-MAE: 1178.018159\n"
     ]
    }
   ],
   "source": [
    "n_folds = 5\n",
    "cv_sum = 0\n",
    "\n",
    "pred_oob = np.zeros(train_x.shape[0])\n",
    "pred_test = np.zeros(test_x.shape[0])\n",
    "\n",
    "\n",
    "kf = KFold(train_x.shape[0], n_folds=n_folds,random_state = 2016)\n",
    "for i, (train_index, test_index) in enumerate(kf):\n",
    "    print(i)\n",
    "\n",
    "    X_train, X_val = train_x.iloc[train_index], train_x.iloc[test_index]\n",
    "    y_train, y_val = train_y.iloc[train_index], train_y.iloc[test_index]\n",
    "\n",
    "    d_train, d_train_y = np.array(X_train), np.array(y_train[0])\n",
    "    d_valid, d_valid_y = np.array(X_val),np.array(y_val[0])\n",
    "\n",
    "    clf = RandomForestRegressor(n_estimators = 1000 ,\n",
    "                                max_features =0.75 ,\n",
    "                                max_depth = 17,\n",
    "                                min_samples_leaf =7,\n",
    "                                n_jobs = 18,\n",
    "                                criterion = 'mse',\n",
    "                                random_state = 2016,\n",
    "                                bootstrap = True,\n",
    "                                verbose = 1)\n",
    "\n",
    "    clf.fit(d_train,d_train_y)\n",
    "    \n",
    "    pred = np.exp(clf.predict(d_valid))-200\n",
    "    pred_oob[test_index] = pred\n",
    "    \n",
    "    pred_test += np.exp(clf.predict(np.array(test_x)))-200\n",
    "\n",
    "    cv_score = mean_absolute_error(np.exp(d_valid_y), pred+200)\n",
    "    print('eval-MAE: %.6f' % cv_score)\n",
    "\n",
    "    cv_sum = cv_sum + cv_score\n",
    "\n",
    "score = cv_sum / n_folds"
   ]
  },
  {
   "cell_type": "code",
   "execution_count": 19,
   "metadata": {
    "button": false,
    "collapsed": false,
    "deletable": true,
    "new_sheet": false,
    "run_control": {
     "read_only": false
    }
   },
   "outputs": [
    {
     "name": "stdout",
     "output_type": "stream",
     "text": [
      "Writing results\n",
      "5-fold average prediction:\n",
      "Writing submission: test_rf_fairobj_1186.373558_2016-12-12-01-33.csv\n",
      "writing out of bag results\n",
      "Writing submission: oob_rf_fairobj_1186.373558_2016-12-12-01-33.csv\n"
     ]
    }
   ],
   "source": [
    "pred_test /= n_folds\n",
    "\n",
    "print(\"Writing results\")\n",
    "result = pd.DataFrame(pred_test, columns=['loss'])\n",
    "result[\"id\"] = ids\n",
    "result = result.set_index(\"id\")\n",
    "print(\"%d-fold average prediction:\" % n_folds)\n",
    "\n",
    "\n",
    "now = datetime.now()\n",
    "score = str(round((cv_sum / n_folds), 6))\n",
    "sub_file = 'test_rf_fairobj_' + str(score) + '_' + str(\n",
    "    now.strftime(\"%Y-%m-%d-%H-%M\")) + '.csv'\n",
    "print(\"Writing submission: %s\" % sub_file)\n",
    "result.to_csv(sub_file, index=True, index_label='id')\n",
    "\n",
    "print(\"writing out of bag results\")\n",
    "oob_df = pd.DataFrame(pred_oob, columns = ['loss'])\n",
    "sub_file = 'oob_rf_fairobj_' + str(score) + '_' + str(\n",
    "    now.strftime(\"%Y-%m-%d-%H-%M\")) + '.csv'\n",
    "print(\"Writing submission: %s\" % sub_file)\n",
    "oob_df.to_csv(sub_file, index = False)"
   ]
  },
  {
   "cell_type": "code",
   "execution_count": null,
   "metadata": {
    "button": false,
    "collapsed": true,
    "deletable": true,
    "new_sheet": false,
    "run_control": {
     "read_only": false
    }
   },
   "outputs": [],
   "source": []
  }
 ],
 "metadata": {
  "anaconda-cloud": {},
  "kernelspec": {
   "display_name": "Python 2",
   "language": "python",
   "name": "python2"
  },
  "language_info": {
   "codemirror_mode": {
    "name": "ipython",
    "version": 2
   },
   "file_extension": ".py",
   "mimetype": "text/x-python",
   "name": "python",
   "nbconvert_exporter": "python",
   "pygments_lexer": "ipython2",
   "version": "2.7.11"
  }
 },
 "nbformat": 4,
 "nbformat_minor": 1
}
