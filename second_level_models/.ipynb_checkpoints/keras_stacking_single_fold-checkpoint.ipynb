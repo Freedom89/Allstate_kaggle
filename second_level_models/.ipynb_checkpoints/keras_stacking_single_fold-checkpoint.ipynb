{
 "cells": [
  {
   "cell_type": "code",
   "execution_count": 1,
   "metadata": {
    "button": false,
    "collapsed": false,
    "deletable": true,
    "new_sheet": false,
    "run_control": {
     "read_only": false
    }
   },
   "outputs": [
    {
     "name": "stderr",
     "output_type": "stream",
     "text": [
      "//anaconda/envs/py27/lib/python2.7/site-packages/sklearn/cross_validation.py:44: DeprecationWarning: This module was deprecated in version 0.18 in favor of the model_selection module into which all the refactored classes and functions are moved. Also note that the interface of the new CV iterators are different from that of this module. This module will be removed in 0.20.\n",
      "  \"This module will be removed in 0.20.\", DeprecationWarning)\n",
      "Using Theano backend.\n"
     ]
    }
   ],
   "source": [
    "import numpy as np\n",
    "np.random.seed(123)\n",
    "import pandas as pd\n",
    "import subprocess\n",
    "from scipy.sparse import csr_matrix, hstack\n",
    "from sklearn.metrics import mean_absolute_error\n",
    "from sklearn.preprocessing import StandardScaler\n",
    "from sklearn.cross_validation import KFold\n",
    "from keras.models import Sequential, load_model\n",
    "from keras.layers import Dense, Dropout, Activation\n",
    "from keras.layers.normalization import BatchNormalization\n",
    "from keras.layers.advanced_activations import PReLU\n",
    "from keras.callbacks import EarlyStopping, ModelCheckpoint\n",
    "import keras.backend as K\n",
    "from scipy.stats import skew, boxcox\n",
    "\n",
    "\n"
   ]
  },
  {
   "cell_type": "code",
   "execution_count": 2,
   "metadata": {
    "button": false,
    "collapsed": true,
    "deletable": true,
    "new_sheet": false,
    "run_control": {
     "read_only": false
    }
   },
   "outputs": [],
   "source": [
    "def batch_generator(X, y, batch_size, shuffle):\n",
    "    #chenglong code for fiting from generator (https://www.kaggle.com/c/talkingdata-mobile-user-demographics/forums/t/22567/neural-network-for-sparse-matrices)\n",
    "    number_of_batches = np.ceil(X.shape[0]/batch_size)\n",
    "    counter = 0\n",
    "    sample_index = np.arange(X.shape[0])\n",
    "    if shuffle:\n",
    "        np.random.shuffle(sample_index)\n",
    "    while True:\n",
    "        batch_index = sample_index[batch_size*counter:batch_size*(counter+1)]\n",
    "        X_batch = X[batch_index,:].toarray()\n",
    "        y_batch = y[batch_index]\n",
    "        counter += 1\n",
    "        yield X_batch, y_batch\n",
    "        if (counter == number_of_batches):\n",
    "            if shuffle:\n",
    "                np.random.shuffle(sample_index)\n",
    "            counter = 0\n",
    "\n",
    "def batch_generatorp(X, batch_size, shuffle):\n",
    "    number_of_batches = X.shape[0] / np.ceil(X.shape[0]/batch_size)\n",
    "    counter = 0\n",
    "    sample_index = np.arange(X.shape[0])\n",
    "    while True:\n",
    "        batch_index = sample_index[batch_size * counter:batch_size * (counter + 1)]\n",
    "        X_batch = X[batch_index, :].toarray()\n",
    "        counter += 1\n",
    "        yield X_batch\n",
    "        if (counter == number_of_batches):\n",
    "            counter = 0"
   ]
  },
  {
   "cell_type": "code",
   "execution_count": 3,
   "metadata": {
    "button": false,
    "collapsed": true,
    "deletable": true,
    "new_sheet": false,
    "run_control": {
     "read_only": false
    }
   },
   "outputs": [],
   "source": [
    "shift = 200\n",
    "def transform(df):\n",
    "    for i in range(df.shape[1]):\n",
    "        df.ix[:,i] = np.log(df.ix[:,i]+shift)\n",
    "    return df\n"
   ]
  },
  {
   "cell_type": "code",
   "execution_count": 4,
   "metadata": {
    "button": false,
    "collapsed": false,
    "deletable": true,
    "new_sheet": false,
    "run_control": {
     "read_only": false
    }
   },
   "outputs": [],
   "source": [
    "train = pd.read_csv(\"../input/train.csv\")\n",
    "ids = pd.read_csv(\"../input/test.csv\")['id']"
   ]
  },
  {
   "cell_type": "code",
   "execution_count": 5,
   "metadata": {
    "button": false,
    "collapsed": false,
    "deletable": true,
    "new_sheet": false,
    "run_control": {
     "read_only": false
    }
   },
   "outputs": [],
   "source": [
    "train_x = pd.read_csv(\"./train_second_level_model.csv\")\n",
    "test_x = pd.read_csv(\"./test_second_level_model.csv\")\n",
    "\n",
    "train_y = np.log(train['loss'].values+shift)"
   ]
  },
  {
   "cell_type": "code",
   "execution_count": 6,
   "metadata": {
    "button": false,
    "collapsed": false,
    "deletable": true,
    "new_sheet": false,
    "run_control": {
     "read_only": false
    }
   },
   "outputs": [
    {
     "data": {
      "text/plain": [
       "12"
      ]
     },
     "execution_count": 6,
     "metadata": {},
     "output_type": "execute_result"
    }
   ],
   "source": [
    "train_x.shape[1]"
   ]
  },
  {
   "cell_type": "code",
   "execution_count": 7,
   "metadata": {
    "button": false,
    "collapsed": false,
    "deletable": true,
    "new_sheet": false,
    "run_control": {
     "read_only": false
    }
   },
   "outputs": [
    {
     "name": "stdout",
     "output_type": "stream",
     "text": [
      "1124.2522893\n",
      "1125.11043344\n",
      "1124.73870933\n",
      "1125.09915962\n",
      "1124.87963343\n",
      "1124.45611729\n",
      "1130.58667325\n",
      "1130.40016748\n",
      "1131.39946641\n",
      "1132.36796706\n",
      "1190.29358276\n",
      "1186.37357485\n"
     ]
    }
   ],
   "source": [
    "for i in range(train_x.shape[1]):\n",
    "    print mean_absolute_error(train_x.ix[:,i],train.loss)\n",
    "\n"
   ]
  },
  {
   "cell_type": "code",
   "execution_count": 8,
   "metadata": {
    "button": false,
    "collapsed": true,
    "deletable": true,
    "new_sheet": false,
    "run_control": {
     "read_only": false
    }
   },
   "outputs": [],
   "source": [
    "xtrain = csr_matrix(transform(train_x))\n",
    "xtest = csr_matrix(transform(test_x))"
   ]
  },
  {
   "cell_type": "code",
   "execution_count": 9,
   "metadata": {
    "button": false,
    "collapsed": true,
    "deletable": true,
    "new_sheet": false,
    "run_control": {
     "read_only": false
    }
   },
   "outputs": [],
   "source": [
    "def mae(y_true, y_pred):\n",
    "    return K.mean(K.abs(K.exp(y_true) - K.exp(y_pred)))\n",
    "\n",
    "def nn_model(layer1=200,layer2=100,dropout1 = 0.4,dropout2=0.2, optimizer = 'adadelta'):\n",
    "    model = Sequential()\n",
    "    \n",
    "    model.add(Dense(layer1, input_dim = xtrain.shape[1], init = 'he_normal'))\n",
    "    model.add(PReLU())\n",
    "    model.add(BatchNormalization())\n",
    "    model.add(Dropout(dropout1))\n",
    "        \n",
    "    model.add(Dense(layer2, init = 'he_normal'))\n",
    "    model.add(PReLU())\n",
    "    model.add(BatchNormalization())    \n",
    "    model.add(Dropout(dropout2))\n",
    "    \n",
    "    model.add(Dense(1, init = 'he_normal'))\n",
    "    model.compile(loss = 'mae', optimizer = optimizer, metrics=[mae])\n",
    "    return(model)"
   ]
  },
  {
   "cell_type": "code",
   "execution_count": 10,
   "metadata": {
    "button": false,
    "collapsed": false,
    "deletable": true,
    "new_sheet": false,
    "run_control": {
     "read_only": false
    }
   },
   "outputs": [
    {
     "name": "stderr",
     "output_type": "stream",
     "text": [
      "//anaconda/envs/py27/lib/python2.7/site-packages/keras/engine/training.py:1470: UserWarning: Epoch comprised more than `samples_per_epoch` samples, which might affect learning results. Set `samples_per_epoch` correctly to avoid this warning.\n",
      "  warnings.warn('Epoch comprised more than '\n"
     ]
    },
    {
     "name": "stdout",
     "output_type": "stream",
     "text": [
      "('Fold ', 1, '- MAE:', 1117.5260825665521)\n",
      "('Fold ', 2, '- MAE:', 1113.2272453103922)\n",
      "('Fold ', 3, '- MAE:', 1117.1135764027533)\n",
      "('Fold ', 4, '- MAE:', 1121.9982577768997)\n",
      "('Fold ', 5, '- MAE:', 1119.6595219061744)\n",
      "('Total - MAE:', 1117.9049057391971)\n"
     ]
    }
   ],
   "source": [
    "np.random.seed(2016)\n",
    "nfolds = 5\n",
    "folds = KFold(len(train_y), n_folds = nfolds, shuffle = True, random_state = 2016)\n",
    "\n",
    "## train models\n",
    "i = 0\n",
    "nbags = 1\n",
    "nepochs = 60\n",
    "pred_oob = np.zeros(xtrain.shape[0])\n",
    "pred_test = np.zeros(xtest.shape[0])\n",
    "\n",
    "partial_evalutaion = open('Keras_Scores.txt','a') \n",
    "\n",
    "for (inTr, inTe) in folds:\n",
    "    xtr = xtrain[inTr]\n",
    "    ytr = train_y[inTr]\n",
    "    xte = xtrain[inTe]\n",
    "    yte = train_y[inTe]\n",
    "    pred = np.zeros(xte.shape[0])\n",
    "    for j in range(nbags):\n",
    "        \n",
    "        #comment from here \n",
    "        callsback_list = [EarlyStopping(patience=10),\\\n",
    "                  ModelCheckpoint('keras-regressor-' + str(i+1) +'_'+ str(j+1) + '.check'\\\n",
    "                                  , monitor='val_loss', save_best_only=True, verbose=0)]\n",
    "        \n",
    "        model = nn_model(layer1=250,layer2=100,\\\n",
    "             dropout1 = 0.4,dropout2=0.2, \\\n",
    "             optimizer = 'adadelta')\n",
    "        \n",
    "        fit = model.fit_generator(generator = batch_generator(xtr, ytr, 128, True),\n",
    "                                  nb_epoch = nepochs,\n",
    "                                  samples_per_epoch = xtr.shape[0],\n",
    "                                  verbose = 0,\n",
    "                                  validation_data=(xte.todense(),yte),\n",
    "                                  callbacks=callsback_list)\n",
    "        \n",
    "        # to here if you just want to use the pre-trained models yourself.\n",
    "        \n",
    "        fit = load_model('keras-regressor-' + str(i+1) + '_'+ str(j+1) + '.check')\n",
    "        \n",
    "        pred += np.exp(fit.predict_generator(generator = batch_generatorp(xte, 800, False), \\\n",
    "                                               val_samples = xte.shape[0])[:,0])-200\n",
    "        \n",
    "        pred_test += np.exp(fit.predict_generator(generator = batch_generatorp(xtest, 800, False), \\\n",
    "                                                    val_samples = xtest.shape[0])[:,0])-200\n",
    "    pred /= nbags\n",
    "    pred_oob[inTe] = pred\n",
    "    score = mean_absolute_error(np.exp(yte)-200, pred)\n",
    "    \n",
    "    i += 1\n",
    "\n",
    "    print('Fold ', i, '- MAE:', score)\n",
    "\n",
    "    partial_evalutaion.write('Fold '+ str(i) + '- MAE:'+ str(score)+'\\n')\n",
    "    partial_evalutaion.flush()\n",
    "\n",
    "\n",
    "partial_evalutaion.write('Total - MAE:'+ str(mean_absolute_error(np.exp(train_y)-200, pred_oob))+'\\n')\n",
    "\n",
    "print('Total - MAE:', mean_absolute_error(np.exp(train_y)-200, pred_oob))"
   ]
  },
  {
   "cell_type": "code",
   "execution_count": 11,
   "metadata": {
    "button": false,
    "collapsed": false,
    "deletable": true,
    "new_sheet": false,
    "run_control": {
     "read_only": false
    }
   },
   "outputs": [],
   "source": [
    "total_score = mean_absolute_error(np.exp(train_y)-200, pred_oob)"
   ]
  },
  {
   "cell_type": "code",
   "execution_count": 12,
   "metadata": {
    "button": false,
    "collapsed": false,
    "deletable": true,
    "new_sheet": false,
    "run_control": {
     "read_only": false
    }
   },
   "outputs": [],
   "source": [
    "df = pd.DataFrame({'loss': pred_oob})\n",
    "df.to_csv(str(total_score) + 'preds_oob.csv', index = False)\n",
    "\n",
    "pred_test /= (nfolds*nbags)\n",
    "df = pd.DataFrame({'id': ids, 'loss': pred_test})\n",
    "df.to_csv(str(total_score) + '_submission_keras_shift_perm.csv', index = False)"
   ]
  },
  {
   "cell_type": "code",
   "execution_count": null,
   "metadata": {
    "button": false,
    "collapsed": true,
    "deletable": true,
    "new_sheet": false,
    "run_control": {
     "read_only": false
    }
   },
   "outputs": [],
   "source": []
  }
 ],
 "metadata": {
  "kernelspec": {
   "display_name": "Python 2",
   "language": "python",
   "name": "python2"
  },
  "language_info": {
   "codemirror_mode": {
    "name": "ipython",
    "version": 2
   },
   "file_extension": ".py",
   "mimetype": "text/x-python",
   "name": "python",
   "nbconvert_exporter": "python",
   "pygments_lexer": "ipython2",
   "version": "2.7.11"
  }
 },
 "nbformat": 4,
 "nbformat_minor": 1
}
