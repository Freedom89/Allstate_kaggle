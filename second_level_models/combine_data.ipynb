{
 "cells": [
  {
   "cell_type": "markdown",
   "metadata": {
    "button": false,
    "deletable": true,
    "new_sheet": false,
    "run_control": {
     "read_only": false
    }
   },
   "source": [
    "Import Libraries "
   ]
  },
  {
   "cell_type": "code",
   "execution_count": 1,
   "metadata": {
    "button": false,
    "collapsed": true,
    "deletable": true,
    "new_sheet": false,
    "run_control": {
     "read_only": false
    }
   },
   "outputs": [],
   "source": [
    "import pandas as pd\n",
    "import numpy as np"
   ]
  },
  {
   "cell_type": "markdown",
   "metadata": {
    "button": false,
    "deletable": true,
    "new_sheet": false,
    "run_control": {
     "read_only": false
    }
   },
   "source": [
    "Reading in OOB files "
   ]
  },
  {
   "cell_type": "code",
   "execution_count": 2,
   "metadata": {
    "button": false,
    "collapsed": false,
    "deletable": true,
    "new_sheet": false,
    "run_control": {
     "read_only": false
    }
   },
   "outputs": [],
   "source": [
    "train = pd.read_csv(\"../input/train.csv\")\n",
    "xgb1 = pd.read_csv(\"../xgboost/oob_xgb_fairobj_1124.252199_2016-12-09-22-05.csv\")\n",
    "xgb2 = pd.read_csv(\"../xgboost/oob_power3_xgb_fairobj_1125.110344_2016-12-08-22-18.csv\")\n",
    "xgb3 = pd.read_csv(\"../xgboost/oob_xgb_fairobj_1124.738622_2016-12-08-03-06.csv\")\n",
    "xgb4 = pd.read_csv(\"../xgboost/oob_xgb_fairobj_1125.099072_2016-12-07-21-03.csv\")\n",
    "xgb5 = pd.read_csv(\"../xgboost/oob_power3_xgb_fairobj_1124.879544_2016-12-08-07-07.csv\")\n",
    "xgb6 = pd.read_csv(\"../xgboost/oob_xgb_fairobj_1124.456032_2016-12-08-14-34.csv\")\n",
    "\n",
    "keras1 = pd.read_csv(\"../keras/preds_oob1130.58667325_from fourm.csv\").sort_values('id')\n",
    "keras2 = pd.read_csv(\"../keras/preds_oob1130.400_different seed.csv\").sort_values('id')\n",
    "keras3 = pd.read_csv(\"../keras/preds_oob1131.39946641_seed400-250-50_no_early_stop.csv\").sort_values('id')\n",
    "keras4 = pd.read_csv(\"../keras/preds_oob1132.36796706_no_log_400_200_50.csv\").sort_values('id')\n",
    "\n",
    "ef1 = pd.read_csv(\"../ef_rf/oob_ef_fairobj_1190.293568_2016-12-12-00-24.csv\")\n",
    "rf1 = pd.read_csv(\"../ef_rf/oob_rf_fairobj_1186.373558_2016-12-12-01-33.csv\")\n",
    "predictions = []\n",
    "\n",
    "predictions.append(np.array(xgb1.loss))\n",
    "predictions.append(np.array(xgb2.loss))\n",
    "predictions.append(np.array(xgb3.loss))\n",
    "predictions.append(np.array(xgb4.loss))\n",
    "predictions.append(np.array(xgb5.loss))\n",
    "predictions.append(np.array(xgb6.loss))\n",
    "\n",
    "predictions.append(np.array(keras1.loss))\n",
    "predictions.append(np.array(keras2.loss))\n",
    "predictions.append(np.array(keras3.loss))\n",
    "predictions.append(np.array(keras4.loss))\n",
    "\n",
    "predictions.append(np.array(ef1.loss))\n",
    "predictions.append(np.array(rf1.loss))\n",
    "\n",
    "train_x = pd.DataFrame(np.transpose(predictions))\n"
   ]
  },
  {
   "cell_type": "markdown",
   "metadata": {
    "button": false,
    "deletable": true,
    "new_sheet": false,
    "run_control": {
     "read_only": false
    }
   },
   "source": [
    "Reading in Test predictions"
   ]
  },
  {
   "cell_type": "code",
   "execution_count": 3,
   "metadata": {
    "button": false,
    "collapsed": false,
    "deletable": true,
    "new_sheet": false,
    "run_control": {
     "read_only": false
    }
   },
   "outputs": [],
   "source": [
    "xgb1_test = pd.read_csv(\"../xgboost/submission_5fold-average-xgb_fairobj_1124.252199_2016-12-02-11-19.csv\")\n",
    "xgb2_test = pd.read_csv(\"../xgboost/test_power3_xgb_fairobj_1125.110344_2016-12-08-22-18.csv\")\n",
    "xgb3_test = pd.read_csv(\"../xgboost/test_xgb_fairobj_1124.738622_2016-12-08-03-06.csv\")\n",
    "xgb4_test = pd.read_csv(\"../xgboost/test_xgb_fairobj_1125.099072_2016-12-07-21-03.csv\")\n",
    "xgb5_test = pd.read_csv(\"../xgboost/test_power3_xgb_fairobj_1124.879544_2016-12-08-07-07.csv\")\n",
    "xgb6_test = pd.read_csv(\"../xgboost/test_xgb_fairobj_1124.456032_2016-12-08-14-34.csv\")\n",
    "keras1_test = pd.read_csv(\"../keras/submission_keras_shift_perm1130.58667325.csv\").sort_values('id')\n",
    "keras2_test = pd.read_csv(\"../keras/submission_keras_shift_perm1130.400.csv\").sort_values('id')\n",
    "keras3_test = pd.read_csv(\"../keras/submission_keras_shift_perm1131.39946641.csv\").sort_values('id')\n",
    "keras4_test = pd.read_csv(\"../keras/submission_keras_shift_perm1132.36796706.csv\").sort_values('id')\n",
    "ef1_test = pd.read_csv(\"../ef_rf/test_ef_fairobj_1190.293568_2016-12-12-00-24.csv\")\n",
    "rf1_test = pd.read_csv(\"../ef_rf/test_rf_fairobj_1186.373558_2016-12-12-01-33.csv\")\n"
   ]
  },
  {
   "cell_type": "code",
   "execution_count": 4,
   "metadata": {
    "button": false,
    "collapsed": false,
    "deletable": true,
    "new_sheet": false,
    "run_control": {
     "read_only": false
    }
   },
   "outputs": [],
   "source": [
    "predictions_test = []\n",
    "\n",
    "predictions_test.append(np.array(xgb1_test.loss))\n",
    "predictions_test.append(np.array(xgb2_test.loss))\n",
    "predictions_test.append(np.array(xgb3_test.loss))\n",
    "predictions_test.append(np.array(xgb4_test.loss))\n",
    "predictions_test.append(np.array(xgb5_test.loss))\n",
    "predictions_test.append(np.array(xgb6_test.loss))\n",
    "\n",
    "predictions_test.append(np.array(keras1_test.loss))\n",
    "predictions_test.append(np.array(keras2_test.loss))\n",
    "predictions_test.append(np.array(keras3_test.loss))\n",
    "predictions_test.append(np.array(keras4_test.loss))\n",
    "\n",
    "predictions_test.append(np.array(ef1_test.loss))\n",
    "predictions_test.append(np.array(rf1_test.loss))\n",
    "\n",
    "test_x = pd.DataFrame(np.transpose(predictions_test))"
   ]
  },
  {
   "cell_type": "markdown",
   "metadata": {
    "button": false,
    "deletable": true,
    "new_sheet": false,
    "run_control": {
     "read_only": false
    }
   },
   "source": [
    "verifying test set "
   ]
  },
  {
   "cell_type": "code",
   "execution_count": 5,
   "metadata": {
    "button": false,
    "collapsed": false,
    "deletable": true,
    "new_sheet": false,
    "run_control": {
     "read_only": false
    }
   },
   "outputs": [
    {
     "data": {
      "text/html": [
       "<div>\n",
       "<table border=\"1\" class=\"dataframe\">\n",
       "  <thead>\n",
       "    <tr style=\"text-align: right;\">\n",
       "      <th></th>\n",
       "      <th>0</th>\n",
       "      <th>1</th>\n",
       "      <th>2</th>\n",
       "      <th>3</th>\n",
       "      <th>4</th>\n",
       "      <th>5</th>\n",
       "      <th>6</th>\n",
       "      <th>7</th>\n",
       "      <th>8</th>\n",
       "      <th>9</th>\n",
       "      <th>10</th>\n",
       "      <th>11</th>\n",
       "    </tr>\n",
       "  </thead>\n",
       "  <tbody>\n",
       "    <tr>\n",
       "      <th>0</th>\n",
       "      <td>1993.587402</td>\n",
       "      <td>1991.582031</td>\n",
       "      <td>2040.753906</td>\n",
       "      <td>2037.662842</td>\n",
       "      <td>2011.458252</td>\n",
       "      <td>2031.191162</td>\n",
       "      <td>1709.747961</td>\n",
       "      <td>1863.231165</td>\n",
       "      <td>1867.304663</td>\n",
       "      <td>1817.927966</td>\n",
       "      <td>2177.778654</td>\n",
       "      <td>2059.030370</td>\n",
       "    </tr>\n",
       "    <tr>\n",
       "      <th>1</th>\n",
       "      <td>1785.814331</td>\n",
       "      <td>1760.319946</td>\n",
       "      <td>1782.887695</td>\n",
       "      <td>1801.068604</td>\n",
       "      <td>1761.099731</td>\n",
       "      <td>1786.076660</td>\n",
       "      <td>1472.165295</td>\n",
       "      <td>1518.536694</td>\n",
       "      <td>1465.007471</td>\n",
       "      <td>1472.942126</td>\n",
       "      <td>1884.687448</td>\n",
       "      <td>1700.372436</td>\n",
       "    </tr>\n",
       "    <tr>\n",
       "      <th>2</th>\n",
       "      <td>4657.417480</td>\n",
       "      <td>4471.034180</td>\n",
       "      <td>4556.829590</td>\n",
       "      <td>4361.276367</td>\n",
       "      <td>4409.905762</td>\n",
       "      <td>4420.834961</td>\n",
       "      <td>4131.383081</td>\n",
       "      <td>3913.994287</td>\n",
       "      <td>3883.456030</td>\n",
       "      <td>3798.080249</td>\n",
       "      <td>4037.687796</td>\n",
       "      <td>3863.859438</td>\n",
       "    </tr>\n",
       "    <tr>\n",
       "      <th>3</th>\n",
       "      <td>1038.933716</td>\n",
       "      <td>1063.732910</td>\n",
       "      <td>1086.600220</td>\n",
       "      <td>1084.421143</td>\n",
       "      <td>1074.311401</td>\n",
       "      <td>1078.842163</td>\n",
       "      <td>1038.551477</td>\n",
       "      <td>987.047913</td>\n",
       "      <td>952.744666</td>\n",
       "      <td>1040.312915</td>\n",
       "      <td>1134.017057</td>\n",
       "      <td>1163.973155</td>\n",
       "    </tr>\n",
       "    <tr>\n",
       "      <th>4</th>\n",
       "      <td>3166.384033</td>\n",
       "      <td>3289.858887</td>\n",
       "      <td>3324.271240</td>\n",
       "      <td>3269.665527</td>\n",
       "      <td>3485.719971</td>\n",
       "      <td>3238.185791</td>\n",
       "      <td>3147.510742</td>\n",
       "      <td>3263.374414</td>\n",
       "      <td>3241.944531</td>\n",
       "      <td>3269.075391</td>\n",
       "      <td>3307.724160</td>\n",
       "      <td>2948.707217</td>\n",
       "    </tr>\n",
       "  </tbody>\n",
       "</table>\n",
       "</div>"
      ],
      "text/plain": [
       "            0            1            2            3            4   \\\n",
       "0  1993.587402  1991.582031  2040.753906  2037.662842  2011.458252   \n",
       "1  1785.814331  1760.319946  1782.887695  1801.068604  1761.099731   \n",
       "2  4657.417480  4471.034180  4556.829590  4361.276367  4409.905762   \n",
       "3  1038.933716  1063.732910  1086.600220  1084.421143  1074.311401   \n",
       "4  3166.384033  3289.858887  3324.271240  3269.665527  3485.719971   \n",
       "\n",
       "            5            6            7            8            9   \\\n",
       "0  2031.191162  1709.747961  1863.231165  1867.304663  1817.927966   \n",
       "1  1786.076660  1472.165295  1518.536694  1465.007471  1472.942126   \n",
       "2  4420.834961  4131.383081  3913.994287  3883.456030  3798.080249   \n",
       "3  1078.842163  1038.551477   987.047913   952.744666  1040.312915   \n",
       "4  3238.185791  3147.510742  3263.374414  3241.944531  3269.075391   \n",
       "\n",
       "            10           11  \n",
       "0  2177.778654  2059.030370  \n",
       "1  1884.687448  1700.372436  \n",
       "2  4037.687796  3863.859438  \n",
       "3  1134.017057  1163.973155  \n",
       "4  3307.724160  2948.707217  "
      ]
     },
     "execution_count": 5,
     "metadata": {},
     "output_type": "execute_result"
    }
   ],
   "source": [
    "train_x.head(5)"
   ]
  },
  {
   "cell_type": "code",
   "execution_count": 6,
   "metadata": {
    "button": false,
    "collapsed": false,
    "deletable": true,
    "new_sheet": false,
    "run_control": {
     "read_only": false
    }
   },
   "outputs": [
    {
     "data": {
      "text/plain": [
       "0    2213.18\n",
       "1    1283.60\n",
       "2    3005.09\n",
       "3     939.85\n",
       "4    2763.85\n",
       "Name: loss, dtype: float64"
      ]
     },
     "execution_count": 6,
     "metadata": {},
     "output_type": "execute_result"
    }
   ],
   "source": [
    "train.loss.head(5)"
   ]
  },
  {
   "cell_type": "markdown",
   "metadata": {
    "button": false,
    "deletable": true,
    "new_sheet": false,
    "run_control": {
     "read_only": false
    }
   },
   "source": [
    "Write out second level data"
   ]
  },
  {
   "cell_type": "code",
   "execution_count": 7,
   "metadata": {
    "button": false,
    "collapsed": true,
    "deletable": true,
    "new_sheet": false,
    "run_control": {
     "read_only": false
    }
   },
   "outputs": [],
   "source": [
    "train_x.to_csv(\"train_second_level_model.csv\",index=None)"
   ]
  },
  {
   "cell_type": "code",
   "execution_count": 8,
   "metadata": {
    "button": false,
    "collapsed": true,
    "deletable": true,
    "new_sheet": false,
    "run_control": {
     "read_only": false
    }
   },
   "outputs": [],
   "source": [
    "test_x.to_csv(\"test_second_level_model.csv\",index = None)"
   ]
  }
 ],
 "metadata": {
  "kernelspec": {
   "display_name": "Python 2",
   "language": "python",
   "name": "python2"
  },
  "language_info": {
   "codemirror_mode": {
    "name": "ipython",
    "version": 2
   },
   "file_extension": ".py",
   "mimetype": "text/x-python",
   "name": "python",
   "nbconvert_exporter": "python",
   "pygments_lexer": "ipython2",
   "version": "2.7"
  }
 },
 "nbformat": 4,
 "nbformat_minor": 0
}
