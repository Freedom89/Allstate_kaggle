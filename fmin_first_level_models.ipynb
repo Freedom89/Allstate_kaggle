{
 "cells": [
  {
   "cell_type": "markdown",
   "metadata": {
    "button": false,
    "deletable": true,
    "new_sheet": false,
    "run_control": {
     "read_only": false
    }
   },
   "source": [
    "This script shows how to find weighted averages "
   ]
  },
  {
   "cell_type": "code",
   "execution_count": null,
   "metadata": {
    "button": false,
    "collapsed": true,
    "deletable": true,
    "new_sheet": false,
    "run_control": {
     "read_only": false
    }
   },
   "outputs": [],
   "source": [
    "import numpy as np\n",
    "np.random.seed(123)\n",
    "import pandas as pd\n",
    "import xgboost as xgb\n",
    "import gc\n",
    "from datetime import datetime\n",
    "from scipy.optimize import minimize\n",
    "from sklearn.metrics import mean_absolute_error\n"
   ]
  },
  {
   "cell_type": "code",
   "execution_count": null,
   "metadata": {
    "button": false,
    "collapsed": false,
    "deletable": true,
    "new_sheet": false,
    "run_control": {
     "read_only": false
    }
   },
   "outputs": [],
   "source": [
    "train = pd.read_csv(\"./input/train.csv\")\n",
    "xgb1 = pd.read_csv(\"./xgboost/oob_xgb_fairobj_1124.252199_2016-12-09-22-05.csv\")\n",
    "xgb2 = pd.read_csv(\"./xgboost/oob_power3_xgb_fairobj_1125.110344_2016-12-08-22-18.csv\")\n",
    "xgb3 = pd.read_csv(\"./xgboost/oob_xgb_fairobj_1124.738622_2016-12-08-03-06.csv\")\n",
    "xgb4 = pd.read_csv(\"./xgboost/oob_xgb_fairobj_1125.099072_2016-12-07-21-03.csv\")\n",
    "xgb5 = pd.read_csv(\"./xgboost/oob_power3_xgb_fairobj_1124.879544_2016-12-08-07-07.csv\")\n",
    "xgb6 = pd.read_csv(\"./xgboost/oob_xgb_fairobj_1124.456032_2016-12-08-14-34.csv\")\n",
    "\n",
    "keras1 = pd.read_csv(\"./keras/preds_oob1130.58667325_from fourm.csv\").sort_values('id')\n",
    "keras2 = pd.read_csv(\"./keras/preds_oob1130.400_different seed.csv\").sort_values('id')\n",
    "keras3 = pd.read_csv(\"./keras/preds_oob1131.39946641_seed400-250-50_no_early_stop.csv\").sort_values('id')\n",
    "keras4 = pd.read_csv(\"./keras/preds_oob1132.36796706_no_log_400_200_50.csv\").sort_values('id')"
   ]
  },
  {
   "cell_type": "code",
   "execution_count": null,
   "metadata": {
    "button": false,
    "collapsed": true,
    "deletable": true,
    "new_sheet": false,
    "run_control": {
     "read_only": false
    }
   },
   "outputs": [],
   "source": [
    "def mae_func(weights):\n",
    "    ''' scipy minimize will pass the weights as a numpy array '''\n",
    "    final_prediction = 0\n",
    "    for weight, prediction in zip(weights, predictions):\n",
    "            final_prediction += weight*prediction\n",
    "\n",
    "    return mean_absolute_error(Y_values, final_prediction)\n",
    "\n",
    "# def mae_func(weights):\n",
    "#     ''' scipy minimize will pass the weights as a numpy array '''\n",
    "#     final_prediction = 0\n",
    "#     for weight, prediction in zip(weights, predictions):\n",
    "#             final_prediction += prediction**weight\n",
    "\n",
    "#     final_prediction /= len(weights)\n",
    "#     return mean_absolute_error(Y_values, final_prediction)\n",
    "\n",
    "def timer(start_time=None):\n",
    "    if not start_time:\n",
    "        start_time = datetime.now()\n",
    "        return start_time\n",
    "    elif start_time:\n",
    "        thour, temp_sec = divmod((datetime.now() - start_time).total_seconds(), 3600)\n",
    "        tmin, tsec = divmod(temp_sec, 60)\n",
    "        print(' Time taken: %i hours %i minutes and %s seconds.' % (thour, tmin, round(tsec, 2)))"
   ]
  },
  {
   "cell_type": "code",
   "execution_count": null,
   "metadata": {
    "button": false,
    "collapsed": false,
    "deletable": true,
    "new_sheet": false,
    "run_control": {
     "read_only": false
    }
   },
   "outputs": [],
   "source": [
    "Y_values = train['loss'].values\n",
    "predictions = []\n",
    "lls = []\n",
    "wghts = []"
   ]
  },
  {
   "cell_type": "code",
   "execution_count": null,
   "metadata": {
    "button": false,
    "collapsed": false,
    "deletable": true,
    "new_sheet": false,
    "run_control": {
     "read_only": false
    }
   },
   "outputs": [],
   "source": [
    "predictions.append(np.array(xgb1.loss))\n",
    "predictions.append(np.array(xgb2.loss))\n",
    "predictions.append(np.array(xgb3.loss))\n",
    "predictions.append(np.array(xgb4.loss))\n",
    "predictions.append(np.array(xgb5.loss))\n",
    "predictions.append(np.array(xgb6.loss))\n",
    "\n",
    "predictions.append(np.array(keras1.loss))\n",
    "predictions.append(np.array(keras2.loss))\n",
    "predictions.append(np.array(keras3.loss))\n",
    "predictions.append(np.array(keras4.loss))\n"
   ]
  },
  {
   "cell_type": "code",
   "execution_count": null,
   "metadata": {
    "button": false,
    "collapsed": false,
    "deletable": true,
    "new_sheet": false,
    "run_control": {
     "read_only": false
    },
    "scrolled": true
   },
   "outputs": [],
   "source": [
    "start_time = timer(None)\n",
    "for i in range(100):\n",
    "    if i % 50 == 0:\n",
    "    starting_values = np.random.uniform(size=len(predictions))\n",
    "    cons = ({'type':'ineq','fun':lambda w: 1.2-sum(w)})\n",
    "    bounds = [(0,1)]*len(predictions)\n",
    "\n",
    "    res = minimize(mae_func, starting_values, method='L-BFGS-B',\n",
    "                   bounds=bounds, options={'disp': False, 'maxiter': 10000})\n",
    "\n",
    "    lls.append(res['fun'])\n",
    "    wghts.append(res['x'])\n",
    "# Uncomment the next line if you want to see the weights and scores calculated in real time\n",
    "    #print('Weights: {weights}  Score: {score}'.format(weights=res['x'], score=res['fun']))\n",
    "\n",
    "bestSC = np.min(lls)\n",
    "bestWght = wghts[np.argmin(lls)]\n",
    "\n",
    "print('\\n Ensemble Score: {best_score}'.format(best_score=bestSC))\n",
    "print('\\n Best Weights: {weights}'.format(weights=bestWght))\n",
    "\n",
    "timer(start_time)"
   ]
  },
  {
   "cell_type": "code",
   "execution_count": null,
   "metadata": {
    "button": false,
    "collapsed": false,
    "deletable": true,
    "new_sheet": false,
    "run_control": {
     "read_only": false
    }
   },
   "outputs": [],
   "source": [
    "xgb1_test = pd.read_csv(\"./xgboost/submission_5fold-average-xgb_fairobj_1124.252199_2016-12-02-11-19.csv\")\n",
    "xgb2_test = pd.read_csv(\"./xgboost/test_power3_xgb_fairobj_1125.110344_2016-12-08-22-18.csv\")\n",
    "xgb3_test = pd.read_csv(\"./xgboost/test_xgb_fairobj_1124.738622_2016-12-08-03-06.csv\")\n",
    "xgb4_test = pd.read_csv(\"./xgboost/test_xgb_fairobj_1125.099072_2016-12-07-21-03.csv\")\n",
    "xgb5_test = pd.read_csv(\"./xgboost/test_power3_xgb_fairobj_1124.879544_2016-12-08-07-07.csv\")\n",
    "xgb6_test = pd.read_csv(\"./xgboost/test_xgb_fairobj_1124.456032_2016-12-08-14-34.csv\")\n",
    "keras1_test = pd.read_csv(\"./keras/submission_keras_shift_perm1130.58667325.csv\").sort_values('id')\n",
    "keras2_test = pd.read_csv(\"./keras/submission_keras_shift_perm1130.400.csv\").sort_values('id')\n",
    "keras3_test = pd.read_csv(\"./keras/submission_keras_shift_perm1131.39946641.csv\").sort_values('id')\n",
    "keras4_test = pd.read_csv(\"./keras/submission_keras_shift_perm1132.36796706.csv\").sort_values('id')\n"
   ]
  },
  {
   "cell_type": "code",
   "execution_count": null,
   "metadata": {
    "button": false,
    "collapsed": false,
    "deletable": true,
    "new_sheet": false,
    "run_control": {
     "read_only": false
    }
   },
   "outputs": [],
   "source": [
    "combined = bestWght[0] * np.array(xgb1_test.loss) + \\\n",
    "bestWght[1] * np.array(xgb2_test.loss) +\\\n",
    "bestWght[2] * np.array(xgb3_test.loss) +\\\n",
    "bestWght[3] * np.array(xgb4_test.loss) +\\\n",
    "bestWght[4] * np.array(xgb5_test.loss) +\\\n",
    "bestWght[5] * np.array(xgb6_test.loss) +\\\n",
    "bestWght[6] * np.array(keras1_test.loss) +\\\n",
    "bestWght[7] * np.array(keras2_test.loss) +\\\n",
    "bestWght[8] * np.array(keras3_test.loss) +\\\n",
    "bestWght[9] * np.array(keras4_test.loss) \n"
   ]
  },
  {
   "cell_type": "code",
   "execution_count": null,
   "metadata": {
    "button": false,
    "collapsed": false,
    "deletable": true,
    "new_sheet": false,
    "run_control": {
     "read_only": false
    }
   },
   "outputs": [],
   "source": [
    "ids = pd.read_csv('./data_prep/input/test.csv')['id']\n",
    "df = pd.DataFrame({'id': ids, 'loss': combined})\n"
   ]
  },
  {
   "cell_type": "code",
   "execution_count": null,
   "metadata": {
    "button": false,
    "collapsed": false,
    "deletable": true,
    "new_sheet": false,
    "run_control": {
     "read_only": false
    }
   },
   "outputs": [],
   "source": [
    "df.to_csv('allstate'+str(bestSC) + '.csv', index = False)"
   ]
  },
  {
   "cell_type": "code",
   "execution_count": null,
   "metadata": {
    "button": false,
    "collapsed": true,
    "deletable": true,
    "new_sheet": false,
    "run_control": {
     "read_only": false
    }
   },
   "outputs": [],
   "source": []
  }
 ],
 "metadata": {
  "kernelspec": {
   "display_name": "Python 2",
   "language": "python",
   "name": "python2"
  },
  "language_info": {
   "codemirror_mode": {
    "name": "ipython",
    "version": 2
   },
   "file_extension": ".py",
   "mimetype": "text/x-python",
   "name": "python",
   "nbconvert_exporter": "python",
   "pygments_lexer": "ipython2",
   "version": "2.7"
  }
 },
 "nbformat": 4,
 "nbformat_minor": 0
}
